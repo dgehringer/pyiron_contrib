{
 "cells": [
  {
   "cell_type": "markdown",
   "metadata": {},
   "source": [
    "# Minimize example - Lammps"
   ]
  },
  {
   "cell_type": "code",
   "execution_count": 1,
   "metadata": {
    "ExecuteTime": {
     "end_time": "2020-11-19T17:11:04.894280Z",
     "start_time": "2020-11-19T17:11:03.575261Z"
    }
   },
   "outputs": [],
   "source": [
    "# headers\n",
    "\n",
    "# general modules\n",
    "import numpy as np\n",
    "import matplotlib.pyplot as plt\n",
    "\n",
    "# pyiron modules\n",
    "from pyiron_atomistics import Project\n",
    "import pyiron_contrib"
   ]
  },
  {
   "cell_type": "code",
   "execution_count": 2,
   "metadata": {
    "ExecuteTime": {
     "end_time": "2020-11-19T17:11:06.639140Z",
     "start_time": "2020-11-19T17:11:04.896642Z"
    }
   },
   "outputs": [],
   "source": [
    "# define project\n",
    "\n",
    "pr = Project('minimize_example')\n",
    "pr.remove_jobs_silently(recursive=True)"
   ]
  },
  {
   "cell_type": "code",
   "execution_count": 3,
   "metadata": {
    "ExecuteTime": {
     "end_time": "2020-11-19T17:11:06.721231Z",
     "start_time": "2020-11-19T17:11:06.717669Z"
    }
   },
   "outputs": [],
   "source": [
    "# inputs \n",
    "\n",
    "# structure specific\n",
    "element = 'Al'\n",
    "supercell = 3\n",
    "cubic = True\n",
    "a = 4.  # we purposefully set this value off the actual a value\n",
    "\n",
    "# job specific\n",
    "potential = '2008--Mendelev-M-I--Al--LAMMPS--ipr1'\n",
    "\n",
    "# Minimize specific\n",
    "n_steps = 200\n",
    "gamma0 = 0.1\n",
    "f_tol = 1e-4\n",
    "dynamic_gamma = True"
   ]
  },
  {
   "cell_type": "code",
   "execution_count": 4,
   "metadata": {
    "ExecuteTime": {
     "end_time": "2020-11-19T17:11:06.775070Z",
     "start_time": "2020-11-19T17:11:06.723011Z"
    }
   },
   "outputs": [],
   "source": [
    "# create base structure\n",
    "\n",
    "box = pr.create.structure.bulk(name=element, cubic=cubic, a=a).repeat(supercell)\n",
    "# distort the structure, so the effects of minimization can be seen\n",
    "box.positions[0] += 0.5"
   ]
  },
  {
   "cell_type": "code",
   "execution_count": 5,
   "metadata": {
    "ExecuteTime": {
     "end_time": "2020-11-19T17:11:09.072479Z",
     "start_time": "2020-11-19T17:11:06.777087Z"
    }
   },
   "outputs": [
    {
     "name": "stdout",
     "output_type": "stream",
     "text": [
      "The job ref_mini was saved and received the ID: 107\n",
      "The job prot_mini_job was saved and received the ID: 108\n",
      "The job initialize_job_0 was saved and received the ID: 111\n"
     ]
    },
    {
     "name": "stderr",
     "output_type": "stream",
     "text": [
      "/home/raynol025/pyiron/pyiron_base/pyiron_base/generic/parameters.py:282: UserWarning: The input in GenericParameters changed, while the state of the job was already finished.\n",
      "  warnings.warn(\n"
     ]
    }
   ],
   "source": [
    "# create and run the minimize job\n",
    "\n",
    "pr_prot = pr.create_group('protocol_mini')  # create a new folder\n",
    "\n",
    "mini_ref = pr_prot.create.job.Lammps(job_name='ref_mini')\n",
    "mini_ref.structure = box\n",
    "mini_ref.potential = potential\n",
    "mini_ref.save()  # Don't forget this step!\n",
    "\n",
    "prot_mini_job = pr_prot.create.job.ProtoMinimGradDes('prot_mini_job')\n",
    "prot_mini_job.input.ref_job_full_path = mini_ref.path\n",
    "prot_mini_job.input.structure = box\n",
    "prot_mini_job.input.n_steps = n_steps\n",
    "prot_mini_job.input.f_tol = f_tol\n",
    "prot_mini_job.input.gamma0 = gamma0\n",
    "prot_mini_job.input.dynamic_gamma = dynamic_gamma\n",
    "\n",
    "# # in addition to these inputs, you can also modify the following inputs\n",
    "# prot_mini_job.input.fix_com = True\n",
    "# prot_mini_job.input.c = 0.1\n",
    "# prot_mini_job.input.tau1 = 1.\n",
    "# prot_mini_job.input.tau2 = 0.2\n",
    "\n",
    "prot_mini_job.run()"
   ]
  },
  {
   "cell_type": "code",
   "execution_count": 6,
   "metadata": {
    "ExecuteTime": {
     "end_time": "2020-11-19T17:11:09.087488Z",
     "start_time": "2020-11-19T17:11:09.082858Z"
    }
   },
   "outputs": [
    {
     "data": {
      "text/plain": [
       "dict_keys(['energy_pot', 'max_force', 'positions', 'forces'])"
      ]
     },
     "execution_count": 6,
     "metadata": {},
     "output_type": "execute_result"
    }
   ],
   "source": [
    "# check what keys are in the output dictionary\n",
    "\n",
    "prot_mini_job.output.keys()"
   ]
  },
  {
   "cell_type": "code",
   "execution_count": 7,
   "metadata": {
    "ExecuteTime": {
     "end_time": "2020-11-19T17:11:09.818896Z",
     "start_time": "2020-11-19T17:11:09.090388Z"
    }
   },
   "outputs": [
    {
     "name": "stdout",
     "output_type": "stream",
     "text": [
      "The job pyir_mini_job was saved and received the ID: 113\n"
     ]
    },
    {
     "name": "stderr",
     "output_type": "stream",
     "text": [
      "/home/raynol025/pyiron/pyiron_atomistics/pyiron_atomistics/lammps/units.py:201: UserWarning: Warning: Couldn't determine the LAMMPS to pyiron unit conversion type of quantity steps. Returning un-normalized quantity\n",
      "  warnings.warn(message=\"Warning: Couldn't determine the LAMMPS to pyiron unit conversion type of quantity \"\n",
      "/home/raynol025/pyiron/pyiron_atomistics/pyiron_atomistics/lammps/units.py:201: UserWarning: Warning: Couldn't determine the LAMMPS to pyiron unit conversion type of quantity indices. Returning un-normalized quantity\n",
      "  warnings.warn(message=\"Warning: Couldn't determine the LAMMPS to pyiron unit conversion type of quantity \"\n",
      "/home/raynol025/pyiron/pyiron_atomistics/pyiron_atomistics/lammps/units.py:201: UserWarning: Warning: Couldn't determine the LAMMPS to pyiron unit conversion type of quantity velocities. Returning un-normalized quantity\n",
      "  warnings.warn(message=\"Warning: Couldn't determine the LAMMPS to pyiron unit conversion type of quantity \"\n",
      "/home/raynol025/pyiron/pyiron_atomistics/pyiron_atomistics/lammps/units.py:201: UserWarning: Warning: Couldn't determine the LAMMPS to pyiron unit conversion type of quantity steps. Returning un-normalized quantity\n",
      "  warnings.warn(message=\"Warning: Couldn't determine the LAMMPS to pyiron unit conversion type of quantity \"\n"
     ]
    }
   ],
   "source": [
    "# run pyiron's lammps minimize\n",
    "\n",
    "pr_pyir = pr.create_group('pyiron_mini')\n",
    "\n",
    "pyir_mini_job = pr_pyir.create.job.Lammps('pyir_mini_job')\n",
    "pyir_mini_job.structure = box\n",
    "pyir_mini_job.potential = potential\n",
    "pyir_mini_job.calc_minimize(pressure=None, style='sd', ionic_force_tolerance = f_tol)\n",
    "# since this protocol method is a dummy method to demonstrate how a protocol works, \n",
    "# it presently can only relax ionic positions, and not the simulation cell. For this reason,\n",
    "# we keep pressure=None (isochoric relaxation).\n",
    "\n",
    "# the protocol uses the gradient descent method for the minimization of forces. \n",
    "# We select the steepest descent method for the minimization in the lammps job.\n",
    "pyir_mini_job.run()"
   ]
  },
  {
   "cell_type": "code",
   "execution_count": 8,
   "metadata": {
    "ExecuteTime": {
     "end_time": "2020-11-19T17:11:09.857525Z",
     "start_time": "2020-11-19T17:11:09.832991Z"
    }
   },
   "outputs": [
    {
     "data": {
      "text/plain": [
       "(-367.8223718746988, -367.822371885738)"
      ]
     },
     "execution_count": 8,
     "metadata": {},
     "output_type": "execute_result"
    }
   ],
   "source": [
    "# compare the energy_pots from the 2 methods\n",
    "\n",
    "prot_mini_job.output.energy_pot[-1], pyir_mini_job.output.energy_pot[-1]"
   ]
  }
 ],
 "metadata": {
  "kernelspec": {
   "display_name": "Python 3",
   "language": "python",
   "name": "python3"
  },
  "language_info": {
   "codemirror_mode": {
    "name": "ipython",
    "version": 3
   },
   "file_extension": ".py",
   "mimetype": "text/x-python",
   "name": "python",
   "nbconvert_exporter": "python",
   "pygments_lexer": "ipython3",
   "version": "3.8.8"
  }
 },
 "nbformat": 4,
 "nbformat_minor": 4
}
