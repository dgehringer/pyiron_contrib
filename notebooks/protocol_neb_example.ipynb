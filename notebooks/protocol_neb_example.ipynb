{
 "cells": [
  {
   "cell_type": "markdown",
   "metadata": {},
   "source": [
    "# Climbing image NEB example - Lammps"
   ]
  },
  {
   "cell_type": "code",
   "execution_count": 1,
   "metadata": {
    "ExecuteTime": {
     "end_time": "2020-11-13T10:18:10.402265Z",
     "start_time": "2020-11-13T10:18:08.415457Z"
    }
   },
   "outputs": [],
   "source": [
    "# headers\n",
    "\n",
    "# general modules\n",
    "import numpy as np\n",
    "import matplotlib.pyplot as plt\n",
    "\n",
    "# pyiron modules\n",
    "from pyiron_atomistics import Project\n",
    "import pyiron_contrib"
   ]
  },
  {
   "cell_type": "code",
   "execution_count": 2,
   "metadata": {
    "ExecuteTime": {
     "end_time": "2020-11-13T10:18:16.123161Z",
     "start_time": "2020-11-13T10:18:10.403690Z"
    }
   },
   "outputs": [],
   "source": [
    "# define project\n",
    "\n",
    "pr = Project('neb_example')\n",
    "pr.remove_jobs(recursive=True)"
   ]
  },
  {
   "cell_type": "code",
   "execution_count": 4,
   "metadata": {
    "ExecuteTime": {
     "end_time": "2020-11-13T10:18:20.011188Z",
     "start_time": "2020-11-13T10:18:20.003833Z"
    }
   },
   "outputs": [],
   "source": [
    "# inputs \n",
    "\n",
    "# structure specific\n",
    "element = 'Al'\n",
    "supercell = 3\n",
    "vac_id_initial = 0\n",
    "vac_id_final = 1\n",
    "cubic = True\n",
    "\n",
    "# job specific\n",
    "potential = '2008--Mendelev-M-I--Al--LAMMPS--ipr1'\n",
    "\n",
    "# NEB specific\n",
    "n_images = 7\n",
    "neb_steps = 200\n",
    "gamma0 = 0.1\n",
    "dynamic_gamma = True\n",
    "climbing_image = True"
   ]
  },
  {
   "cell_type": "code",
   "execution_count": 5,
   "metadata": {
    "ExecuteTime": {
     "end_time": "2020-11-13T10:18:21.395755Z",
     "start_time": "2020-11-13T10:18:21.341883Z"
    }
   },
   "outputs": [],
   "source": [
    "# create base structure\n",
    "\n",
    "box = pr.create.structure.bulk(name=element, cubic=cubic).repeat(supercell)"
   ]
  },
  {
   "cell_type": "code",
   "execution_count": 6,
   "metadata": {
    "ExecuteTime": {
     "end_time": "2020-11-13T10:18:21.808987Z",
     "start_time": "2020-11-13T10:18:21.741957Z"
    }
   },
   "outputs": [],
   "source": [
    "# template minimization job\n",
    "\n",
    "template_job = pr.create.job.Lammps('template')\n",
    "template_job.potential = potential"
   ]
  },
  {
   "cell_type": "code",
   "execution_count": 7,
   "metadata": {
    "ExecuteTime": {
     "end_time": "2020-11-13T10:18:26.620275Z",
     "start_time": "2020-11-13T10:18:22.191381Z"
    }
   },
   "outputs": [
    {
     "name": "stdout",
     "output_type": "stream",
     "text": [
      "The job vac_0 was saved and received the ID: 1008\n"
     ]
    },
    {
     "name": "stderr",
     "output_type": "stream",
     "text": [
      "/home/raynol025/pyiron/pyiron_atomistics/pyiron_atomistics/lammps/units.py:201: UserWarning: Warning: Couldn't determine the LAMMPS to pyiron unit conversion type of quantity steps. Returning un-normalized quantity\n",
      "  warnings.warn(message=\"Warning: Couldn't determine the LAMMPS to pyiron unit conversion type of quantity \"\n",
      "/home/raynol025/pyiron/pyiron_atomistics/pyiron_atomistics/lammps/units.py:201: UserWarning: Warning: Couldn't determine the LAMMPS to pyiron unit conversion type of quantity indices. Returning un-normalized quantity\n",
      "  warnings.warn(message=\"Warning: Couldn't determine the LAMMPS to pyiron unit conversion type of quantity \"\n",
      "/home/raynol025/pyiron/pyiron_atomistics/pyiron_atomistics/lammps/units.py:201: UserWarning: Warning: Couldn't determine the LAMMPS to pyiron unit conversion type of quantity velocities. Returning un-normalized quantity\n",
      "  warnings.warn(message=\"Warning: Couldn't determine the LAMMPS to pyiron unit conversion type of quantity \"\n",
      "/home/raynol025/pyiron/pyiron_atomistics/pyiron_atomistics/lammps/units.py:201: UserWarning: Warning: Couldn't determine the LAMMPS to pyiron unit conversion type of quantity steps. Returning un-normalized quantity\n",
      "  warnings.warn(message=\"Warning: Couldn't determine the LAMMPS to pyiron unit conversion type of quantity \"\n"
     ]
    },
    {
     "name": "stdout",
     "output_type": "stream",
     "text": [
      "The job vac_1 was saved and received the ID: 1009\n"
     ]
    },
    {
     "name": "stderr",
     "output_type": "stream",
     "text": [
      "/home/raynol025/pyiron/pyiron_atomistics/pyiron_atomistics/lammps/units.py:201: UserWarning: Warning: Couldn't determine the LAMMPS to pyiron unit conversion type of quantity indices. Returning un-normalized quantity\n",
      "  warnings.warn(message=\"Warning: Couldn't determine the LAMMPS to pyiron unit conversion type of quantity \"\n",
      "/home/raynol025/pyiron/pyiron_atomistics/pyiron_atomistics/lammps/units.py:201: UserWarning: Warning: Couldn't determine the LAMMPS to pyiron unit conversion type of quantity velocities. Returning un-normalized quantity\n",
      "  warnings.warn(message=\"Warning: Couldn't determine the LAMMPS to pyiron unit conversion type of quantity \"\n",
      "/home/raynol025/pyiron/pyiron_atomistics/pyiron_atomistics/lammps/units.py:201: UserWarning: Warning: Couldn't determine the LAMMPS to pyiron unit conversion type of quantity steps. Returning un-normalized quantity\n",
      "  warnings.warn(message=\"Warning: Couldn't determine the LAMMPS to pyiron unit conversion type of quantity \"\n"
     ]
    }
   ],
   "source": [
    "# vacancy @ atom id 0 minimization\n",
    "\n",
    "vac_0_struct = box.copy()  # copy box\n",
    "vac_0_struct.pop(vac_id_initial)  # create vacancy\n",
    "\n",
    "vac_0 = template_job.copy_template(project=pr, new_job_name='vac_0')\n",
    "vac_0.structure = vac_0_struct\n",
    "vac_0.calc_minimize(pressure=0.)\n",
    "vac_0.run()\n",
    "\n",
    "# vacancy @ atom id 1 minimization\n",
    "\n",
    "vac_1_struct = box.copy()  # copy box\n",
    "vac_1_struct.pop(vac_id_final)  # create vacancy\n",
    "\n",
    "vac_1 = template_job.copy_template(project=pr, new_job_name='vac_1')\n",
    "vac_1.structure = vac_1_struct\n",
    "vac_1.calc_minimize(pressure=0.)\n",
    "vac_1.run()"
   ]
  },
  {
   "cell_type": "code",
   "execution_count": 8,
   "metadata": {
    "ExecuteTime": {
     "end_time": "2020-11-13T10:18:59.975321Z",
     "start_time": "2020-11-13T10:18:26.664434Z"
    }
   },
   "outputs": [
    {
     "name": "stdout",
     "output_type": "stream",
     "text": [
      "The job ref_neb was saved and received the ID: 1010\n",
      "The job neb_job was saved and received the ID: 1011\n",
      "The job initialize_jobs_0 was saved and received the ID: 1012\n",
      "The job initialize_jobs_1 was saved and received the ID: 1013\n",
      "The job initialize_jobs_2 was saved and received the ID: 1014\n",
      "The job initialize_jobs_3 was saved and received the ID: 1015\n",
      "The job initialize_jobs_4 was saved and received the ID: 1016\n",
      "The job initialize_jobs_5 was saved and received the ID: 1017\n",
      "The job initialize_jobs_6 was saved and received the ID: 1018\n"
     ]
    },
    {
     "name": "stderr",
     "output_type": "stream",
     "text": [
      "/home/raynol025/pyiron/pyiron_base/pyiron_base/generic/parameters.py:282: UserWarning: The input in GenericParameters changed, while the state of the job was already finished.\n",
      "  warnings.warn(\n"
     ]
    },
    {
     "name": "stdout",
     "output_type": "stream",
     "text": [
      "Convergence reached in 83 steps. Stopping run.\n"
     ]
    }
   ],
   "source": [
    "# create and run the NEB job\n",
    "\n",
    "pr_neb = pr.create_group('neb')  # create a new folder\n",
    "\n",
    "neb_ref = pr_neb.create.job.Lammps('ref_neb')\n",
    "neb_ref.structure = vac_0.get_structure()\n",
    "neb_ref.potential = potential\n",
    "neb_ref.save()  # Don't forget this step!\n",
    "\n",
    "neb_job = pr_neb.create.job.ProtoNEBSer('neb_job')\n",
    "neb_job.input.ref_job_full_path = neb_ref.path\n",
    "neb_job.input.structure_initial = vac_0.get_structure()\n",
    "neb_job.input.structure_final = vac_1.get_structure()\n",
    "neb_job.input.n_images = n_images\n",
    "neb_job.input.n_steps = neb_steps\n",
    "neb_job.input.gamma0 = gamma0\n",
    "neb_job.input.use_climbing_image = climbing_image\n",
    "neb_job.input.dynamic_gamma = dynamic_gamma\n",
    "\n",
    "# set_output_whitelist sets how often an output of a particular vertex is stored in the archive.\n",
    "# for example, here, the output 'energy_pot' of vertex 'calc_static' is saved every 20 steps in the archive.\n",
    "neb_job.set_output_whitelist(**{'calc_static': {'energy_pot': 20}})\n",
    "\n",
    "neb_job.run()"
   ]
  },
  {
   "cell_type": "code",
   "execution_count": 9,
   "metadata": {},
   "outputs": [],
   "source": [
    "# load the neb job\n",
    "\n",
    "neb_job = pr.load('neb_job')"
   ]
  },
  {
   "cell_type": "code",
   "execution_count": 10,
   "metadata": {
    "ExecuteTime": {
     "end_time": "2020-11-13T10:19:00.211751Z",
     "start_time": "2020-11-13T10:19:00.089093Z"
    }
   },
   "outputs": [
    {
     "name": "stdout",
     "output_type": "stream",
     "text": [
      "Migration barrier: 0.6512616630330399 eV\n"
     ]
    },
    {
     "data": {
      "image/png": "[encoded data removed]",
      "text/plain": [
       "<Figure size 432x288 with 1 Axes>"
      ]
     },
     "metadata": {
      "needs_background": "light"
     },
     "output_type": "display_data"
    },
    {
     "data": {
      "text/plain": [
       "<AxesSubplot:xlabel='Image', ylabel='Energy'>"
      ]
     },
     "execution_count": 10,
     "metadata": {},
     "output_type": "execute_result"
    }
   ],
   "source": [
    "# get the migration barrier\n",
    "\n",
    "print('Migration barrier: {} eV'.format(neb_job.get_barrier()))\n",
    "\n",
    "# plot the band\n",
    "neb_job.plot_elastic_band()"
   ]
  },
  {
   "cell_type": "code",
   "execution_count": null,
   "metadata": {},
   "outputs": [],
   "source": []
  }
 ],
 "metadata": {
  "kernelspec": {
   "display_name": "Python 3",
   "language": "python",
   "name": "python3"
  },
  "language_info": {
   "codemirror_mode": {
    "name": "ipython",
    "version": 3
   },
   "file_extension": ".py",
   "mimetype": "text/x-python",
   "name": "python",
   "nbconvert_exporter": "python",
   "pygments_lexer": "ipython3",
   "version": "3.8.8"
  }
 },
 "nbformat": 4,
 "nbformat_minor": 4
}
