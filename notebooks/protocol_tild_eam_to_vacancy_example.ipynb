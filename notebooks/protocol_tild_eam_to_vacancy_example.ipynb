{
 "cells": [
  {
   "cell_type": "markdown",
   "id": "cb75ee42",
   "metadata": {},
   "source": [
    "# TILD (NVT) -- N interacting atoms to (N-1) interacting atoms with 1 decoupled oscillator"
   ]
  },
  {
   "cell_type": "markdown",
   "id": "52458073",
   "metadata": {
    "heading_collapsed": true
   },
   "source": [
    "### Introduction"
   ]
  },
  {
   "cell_type": "markdown",
   "id": "b42b8b7a",
   "metadata": {
    "hidden": true
   },
   "source": [
    "This notebook is an example of the 'ProtocolTILDNVTPar' job in pyiron_contrib, which can be used to find the free energy difference $\\Delta F$ between two systems of atoms $\\mathrm{A}$ and $\\mathrm{B}$ in a canonical ($NVT$) ensemble, given by the formula,\n",
    "\n",
    "$\\Delta F_\\mathrm{A\\rightarrow B}(N, V, T) = \\int_0^1 \\langle U_\\mathrm{B}(\\lambda) - U_\\mathrm{A}(\\lambda) \\rangle_{(\\lambda, N, V, T)} d\\lambda$,\n",
    "\n",
    "where $\\lambda$ is the coupling parameter and $U$ is the potential energy of the system."
   ]
  },
  {
   "cell_type": "markdown",
   "id": "cce28255",
   "metadata": {
    "hidden": true
   },
   "source": [
    "#### N interacting atoms to (N-1) interacting atoms with 1 decoupled oscillator\n",
    "\n",
    "Here, we find the free energy difference between a system of $N$ atoms interating via a Lammps potential (as system $\\mathrm{A}$) and a system of $(N-1)$ interacting atoms, with 1 atom decoupled from the rest, and behaving as a harmonic oscillator (as system $\\mathrm{B}$).\n",
    "\n",
    "We then use the result of this job to find the free energy change when the decoupled oscillator is turned to a vacancy."
   ]
  },
  {
   "cell_type": "markdown",
   "id": "6bb1177a",
   "metadata": {},
   "source": [
    "### Pre-job setup"
   ]
  },
  {
   "cell_type": "code",
   "execution_count": 1,
   "id": "28ef0bd7",
   "metadata": {
    "ExecuteTime": {
     "end_time": "2021-06-08T17:46:42.937842Z",
     "start_time": "2021-06-08T17:46:40.081333Z"
    }
   },
   "outputs": [],
   "source": [
    "# imports\n",
    "\n",
    "import numpy as np\n",
    "import matplotlib.pyplot as plt\n",
    "from scipy.constants import physical_constants\n",
    "\n",
    "from pyiron_atomistics import Project\n",
    "import pyiron_contrib\n",
    "\n",
    "KB = physical_constants['Boltzmann constant in eV/K'][0]\n",
    "HBAR = physical_constants['Planck constant over 2 pi in eV s'][0]\n",
    "ROOT_EV_PER_ANGSTROM_SQUARE_PER_AMU_IN_S = 9.82269385e13"
   ]
  },
  {
   "cell_type": "code",
   "execution_count": 2,
   "id": "a9e8293d",
   "metadata": {
    "ExecuteTime": {
     "end_time": "2021-06-08T17:47:19.957428Z",
     "start_time": "2021-06-08T17:46:42.940267Z"
    }
   },
   "outputs": [],
   "source": [
    "# define project\n",
    "\n",
    "pr = Project('tild_eam_to_vacancy')\n",
    "pr.remove_jobs(recursive=True)"
   ]
  },
  {
   "cell_type": "markdown",
   "id": "09b6c626",
   "metadata": {},
   "source": [
    "#### Inputs"
   ]
  },
  {
   "cell_type": "code",
   "execution_count": 4,
   "id": "8c9339d0",
   "metadata": {
    "ExecuteTime": {
     "end_time": "2021-06-08T17:47:20.157099Z",
     "start_time": "2021-06-08T17:47:20.153523Z"
    }
   },
   "outputs": [],
   "source": [
    "# structure specific\n",
    "element = 'Al'\n",
    "crystal_structure = 'fcc'\n",
    "supercell = 3\n",
    "potential = '2008--Mendelev-M-I--Al--LAMMPS--ipr1'\n",
    "a = 4.073603  # obtained from calc_md at 300K. \n",
    "\n",
    "# tild specific\n",
    "temperature = 300.\n",
    "n_lambdas = 3  # number of 'lambda'/integration points\n",
    "lambda_bias = 0.65  # slightly right biased (lambdas close to system B)\n",
    "n_steps = 100  # MD steps\n",
    "thermalization_steps = 20  # number of steps to equilibrate the system for\n",
    "sampling_steps = 5  # collect a 'sample' every 'sampling_period' steps \n",
    "convergence_steps = 50 # number of steps after which to check for convergence\n",
    "fe_tol = 1e-3  # convergence criterion 0.1 meV \n",
    "oscillators_id_list = [0]  # !!! HAS to be a list, not an array or integer! !!!\n",
    "\n",
    "# cluster specific\n",
    "queue = 'cmti'\n",
    "tild_cores = n_lambdas  # if running on the headnode, use 1! Otherwise, set to n_lambdas\n",
    "tild_run_time = 14400  # in seconds"
   ]
  },
  {
   "cell_type": "markdown",
   "id": "1b564bf7",
   "metadata": {},
   "source": [
    "#### 0 K relaxation"
   ]
  },
  {
   "cell_type": "code",
   "execution_count": 5,
   "id": "b91c40a7",
   "metadata": {
    "ExecuteTime": {
     "end_time": "2021-06-08T17:47:20.866727Z",
     "start_time": "2021-06-08T17:47:20.158664Z"
    }
   },
   "outputs": [
    {
     "name": "stdout",
     "output_type": "stream",
     "text": [
      "The job zero was saved and received the ID: 983\n"
     ]
    },
    {
     "name": "stderr",
     "output_type": "stream",
     "text": [
      "/home/raynol025/pyiron/pyiron_atomistics/pyiron_atomistics/lammps/units.py:201: UserWarning: Warning: Couldn't determine the LAMMPS to pyiron unit conversion type of quantity steps. Returning un-normalized quantity\n",
      "  warnings.warn(message=\"Warning: Couldn't determine the LAMMPS to pyiron unit conversion type of quantity \"\n",
      "/home/raynol025/pyiron/pyiron_atomistics/pyiron_atomistics/lammps/units.py:201: UserWarning: Warning: Couldn't determine the LAMMPS to pyiron unit conversion type of quantity indices. Returning un-normalized quantity\n",
      "  warnings.warn(message=\"Warning: Couldn't determine the LAMMPS to pyiron unit conversion type of quantity \"\n",
      "/home/raynol025/pyiron/pyiron_atomistics/pyiron_atomistics/lammps/units.py:201: UserWarning: Warning: Couldn't determine the LAMMPS to pyiron unit conversion type of quantity velocities. Returning un-normalized quantity\n",
      "  warnings.warn(message=\"Warning: Couldn't determine the LAMMPS to pyiron unit conversion type of quantity \"\n",
      "/home/raynol025/pyiron/pyiron_atomistics/pyiron_atomistics/lammps/units.py:201: UserWarning: Warning: Couldn't determine the LAMMPS to pyiron unit conversion type of quantity steps. Returning un-normalized quantity\n",
      "  warnings.warn(message=\"Warning: Couldn't determine the LAMMPS to pyiron unit conversion type of quantity \"\n"
     ]
    }
   ],
   "source": [
    "pr_zero = pr.create_group('ionic_relaxation')\n",
    "\n",
    "zero = pr_zero.create.job.Lammps('zero')\n",
    "zero.structure = pr.create.structure.bulk(\n",
    "    name=element, \n",
    "    crystalstructure=crystal_structure, \n",
    "    cubic=crystal_structure.lower() in ['fcc', 'bcc'],\n",
    "    orthorhombic=crystal_structure.lower() in ['hcp']\n",
    ").repeat(supercell)\n",
    "n_atoms = len(zero.structure.positions)\n",
    "zero.potential = potential\n",
    "zero.calc_minimize(pressure=None)  # we keep the volume constant! (because we obtain the lattice constant from MD)\n",
    "zero.run()\n",
    "\n",
    "zero_k_energy = zero.output.energy_pot[-1]"
   ]
  },
  {
   "cell_type": "code",
   "execution_count": 6,
   "id": "7095d252",
   "metadata": {
    "ExecuteTime": {
     "end_time": "2021-06-08T17:47:21.167821Z",
     "start_time": "2021-06-08T17:47:20.880873Z"
    }
   },
   "outputs": [],
   "source": [
    "zero = pr_zero.load(zero.name)"
   ]
  },
  {
   "cell_type": "markdown",
   "id": "6aa30bea",
   "metadata": {},
   "source": [
    "#### Spring constant for the decoupled oscillator job"
   ]
  },
  {
   "cell_type": "code",
   "execution_count": 7,
   "id": "da9a833f",
   "metadata": {
    "ExecuteTime": {
     "end_time": "2021-06-08T17:47:26.216253Z",
     "start_time": "2021-06-08T17:47:21.181793Z"
    }
   },
   "outputs": [
    {
     "name": "stdout",
     "output_type": "stream",
     "text": [
      "The job spring_job was saved and received the ID: 984\n",
      "A spring constant of 2.1878758023700002 eV/angstrom^2 was found\n"
     ]
    }
   ],
   "source": [
    "# in case you want a calculated guess of the spring constant\n",
    "\n",
    "# obtain a spring constant using 0K structure, by displacing a single atom\n",
    "# a random spring constant can also be assumed, for example 1 or 5 eV/Ang^2\n",
    "\n",
    "spring_folder = pr.create_group('spring_job')\n",
    "\n",
    "# clear any existing spring_constant jobs\n",
    "spring_folder.remove_jobs_silently(recursive=True)\n",
    "\n",
    "spring_job = spring_folder.create_job(pr.job_type.Lammps, 'spring_job')\n",
    "spring_job.structure = zero.get_structure()\n",
    "spring_job.potential = potential\n",
    "\n",
    "deviations = np.linspace(-0.5, 0.5, num=10)\n",
    "restoring_forces = np.empty(deviations.shape)\n",
    "\n",
    "spring_job.interactive_open()\n",
    "for i, d in enumerate(deviations):\n",
    "    spring_job.structure.positions[0, 0] = zero.get_structure().positions[0, 0] + d\n",
    "    spring_job.calc_static()\n",
    "    spring_job.run()\n",
    "    restoring_forces[i] = spring_job.interactive_energy_pot_getter()\n",
    "spring_job.interactive_close()\n",
    "\n",
    "spring_constant = np.polyfit(deviations, restoring_forces, 2)[0]\n",
    "\n",
    "print(\"A spring constant of {} eV/angstrom^2 was found\".format(spring_constant))"
   ]
  },
  {
   "cell_type": "markdown",
   "id": "61c7ae12",
   "metadata": {},
   "source": [
    "### TILDNVT job"
   ]
  },
  {
   "cell_type": "markdown",
   "id": "980827cc",
   "metadata": {},
   "source": [
    "#### Reference jobs\n",
    "\n",
    "The 'ProtocolTILDNVTPar' job takes 'reference jobs' for the systems $\\mathrm{A}$ and $\\mathrm{B}$ as inputs. Here, we specify system $\\mathrm{A}$ as a 'Lammps' job. System $\\mathrm{B}$ is a 'DecoupledOscillators' job, which takes as input the spring constant we just obtained, and the index of the atom/s to treat as oscillators. \n",
    "\n",
    "The 'DecoupledOscillators' job itself takes as input a reference job, which in this notebook is a 'Lammps' job."
   ]
  },
  {
   "cell_type": "code",
   "execution_count": 8,
   "id": "c9f7802c",
   "metadata": {
    "ExecuteTime": {
     "end_time": "2021-06-08T17:47:27.614118Z",
     "start_time": "2021-06-08T17:47:26.233319Z"
    }
   },
   "outputs": [
    {
     "name": "stdout",
     "output_type": "stream",
     "text": [
      "The job ref_job_a was saved and received the ID: 985\n",
      "The job ref_job_for_b was saved and received the ID: 986\n",
      "The job ref_job_b was saved and received the ID: 987\n"
     ]
    },
    {
     "data": {
      "text/plain": [
       "987"
      ]
     },
     "execution_count": 8,
     "metadata": {},
     "output_type": "execute_result"
    }
   ],
   "source": [
    "pr_tild = pr.create_group('tild_jobs')\n",
    "\n",
    "# reference job a -> Lammps\n",
    "ref_job_a = pr_tild.create_job(pr.job_type.Lammps, 'ref_job_a')\n",
    "ref_job_a.structure = zero.get_structure().copy()\n",
    "ref_job_a.potential = potential\n",
    "ref_job_a.save()\n",
    "\n",
    "# reference job b -> DecoupledOscillators\n",
    "ref_job_for_b = pr_tild.create.job.Lammps('ref_job_for_b')\n",
    "ref_job_for_b.structure = zero.get_structure().copy()\n",
    "ref_job_for_b.potential = potential\n",
    "ref_job_for_b.save()\n",
    "\n",
    "# NOTE: ^^ the DecoupledOscillators job itself requires a reference job! \n",
    "\n",
    "ref_job_b = pr_tild.create.job.DecoupledOscillators('ref_job_b')\n",
    "ref_job_b.input.ref_job_full_path = ref_job_for_b.path  # !!! job takes the path of the ref job! !!!\n",
    "ref_job_b.input.structure = zero.get_structure().copy()\n",
    "ref_job_b.input.oscillators_id_list = [0]  # atom index of the decoupled oscillator\n",
    "ref_job_b.input.spring_constants_list = [spring_constant] * len(ref_job_b.input.oscillators_id_list)  # spring constant \n",
    "# ref_job_b.input.save_debug_data = False  # in case you want to see the individual harmonic/interacting components\n",
    "ref_job_b.save()"
   ]
  },
  {
   "cell_type": "markdown",
   "id": "25c95d4d",
   "metadata": {},
   "source": [
    "#### Submit and run the job"
   ]
  },
  {
   "cell_type": "code",
   "execution_count": 9,
   "id": "9aac3222",
   "metadata": {
    "ExecuteTime": {
     "end_time": "2021-06-08T17:49:04.320041Z",
     "start_time": "2021-06-08T17:48:53.963842Z"
    }
   },
   "outputs": [
    {
     "name": "stdout",
     "output_type": "stream",
     "text": [
      "The job tild_job was saved and received the ID: 988\n",
      "The job create_jobs_a_0 was saved and received the ID: 989\n",
      "The job create_jobs_a_1 was saved and received the ID: 990\n",
      "The job create_jobs_a_2 was saved and received the ID: 991\n",
      "The job create_jobs_b_0__base was saved and received the ID: 992\n",
      "The job create_jobs_b_0 was saved and received the ID: 993\n",
      "The job create_jobs_b_1__base was saved and received the ID: 994\n",
      "The job create_jobs_b_1 was saved and received the ID: 995\n",
      "The job create_jobs_b_2__base was saved and received the ID: 996\n",
      "The job create_jobs_b_2 was saved and received the ID: 997\n"
     ]
    },
    {
     "name": "stderr",
     "output_type": "stream",
     "text": [
      "/home/raynol025/pyiron/pyiron_base/pyiron_base/generic/parameters.py:282: UserWarning: The input in GenericParameters changed, while the state of the job was already finished.\n",
      "  warnings.warn(\n",
      "/home/raynol025/pyiron/pyiron_base/pyiron_base/generic/parameters.py:282: UserWarning: The input in GenericParameters changed, while the state of the job was already finished.\n",
      "  warnings.warn(\n",
      "/home/raynol025/pyiron/pyiron_base/pyiron_base/generic/parameters.py:282: UserWarning: The input in GenericParameters changed, while the state of the job was already finished.\n",
      "  warnings.warn(\n"
     ]
    },
    {
     "name": "stdout",
     "output_type": "stream",
     "text": [
      "Convergence not reached in 50 steps. Continuing run...\n"
     ]
    },
    {
     "name": "stderr",
     "output_type": "stream",
     "text": [
      "/home/raynol025/pyiron/pyiron_base/pyiron_base/generic/parameters.py:282: UserWarning: The input in GenericParameters changed, while the state of the job was already finished.\n",
      "  warnings.warn(\n",
      "/home/raynol025/pyiron/pyiron_base/pyiron_base/generic/parameters.py:282: UserWarning: The input in GenericParameters changed, while the state of the job was already finished.\n",
      "  warnings.warn(\n",
      "/home/raynol025/pyiron/pyiron_base/pyiron_base/generic/parameters.py:282: UserWarning: The input in GenericParameters changed, while the state of the job was already finished.\n",
      "  warnings.warn(\n"
     ]
    },
    {
     "name": "stdout",
     "output_type": "stream",
     "text": [
      "Maximum steps (100) reached. Stopping run.\n"
     ]
    }
   ],
   "source": [
    "tild_job = pr_tild.create_job(pr.job_type.ProtoTILDPar, 'tild_job')\n",
    "\n",
    "# Tip: The documentation for the job can be accessed by running 'tild_job?' after the job has been defined!\n",
    "    \n",
    "tild_job.input.temperature = temperature\n",
    "tild_job.input.ref_job_a_full_path = ref_job_a.path\n",
    "tild_job.input.ref_job_b_full_path = ref_job_b.path\n",
    "tild_job.input.n_lambdas = n_lambdas\n",
    "tild_job.input.lambda_bias = lambda_bias\n",
    "tild_job.input.n_steps = n_steps\n",
    "tild_job.input.thermalization_steps = thermalization_steps\n",
    "tild_job.input.sampling_steps = sampling_steps\n",
    "tild_job.input.convergence_check_steps = convergence_steps\n",
    "tild_job.input.fe_tol = fe_tol\n",
    "\n",
    "# # in addition to these inputs, you can also modify the following inputs\n",
    "# tild_job.input.time_step = 1.\n",
    "# tild_job.input.temperature_damping_timescale = 100.\n",
    "# tild_job.input.overheat_fraction = 2.\n",
    "# tild_job.input.cutoff_factor = 0.5\n",
    "# tild_job.input.use_reflection = False\n",
    "# tild_job.input.zero_k_energy = 0. # incase you want to provide an energy offset to the HessianJob\n",
    "\n",
    "# # set this only if you're running this on your local PC, and/or using MySQL as your DB manager\n",
    "# tild_job.input.sleep_time = 0.1  \n",
    "\n",
    "# cluster inputs\n",
    "tild_job.server.cores = tild_cores\n",
    "# tild_job.server.queue = queue\n",
    "# tild_job.server.run_time = tild_run_time\n",
    "\n",
    "# run_job\n",
    "tild_job.run()"
   ]
  },
  {
   "cell_type": "markdown",
   "id": "df53b904",
   "metadata": {
    "ExecuteTime": {
     "end_time": "2021-06-04T15:38:40.034539Z",
     "start_time": "2021-06-04T15:38:35.709Z"
    }
   },
   "source": [
    "#### Load the job"
   ]
  },
  {
   "cell_type": "code",
   "execution_count": 10,
   "id": "2f564d61",
   "metadata": {},
   "outputs": [
    {
     "name": "stdout",
     "output_type": "stream",
     "text": [
      "job loaded\n"
     ]
    }
   ],
   "source": [
    "if tild_job.status == 'finished':\n",
    "    path = Project(str(pr.base_name) + '/' + str(pr_tild.base_name))\n",
    "    tild_job = path.load(tild_job.job_name)  # here we load\n",
    "    print('job loaded')\n",
    "else:\n",
    "    print('job still running')"
   ]
  },
  {
   "cell_type": "markdown",
   "id": "62dabdb8",
   "metadata": {},
   "source": [
    "#### Collect output"
   ]
  },
  {
   "cell_type": "code",
   "execution_count": 11,
   "id": "98fa829f",
   "metadata": {
    "ExecuteTime": {
     "end_time": "2021-06-04T15:38:40.035096Z",
     "start_time": "2021-06-04T15:38:35.710Z"
    }
   },
   "outputs": [],
   "source": [
    "total_steps = tild_job.output.total_steps[-1]\n",
    "lambdas = tild_job.output.lambdas[-1]\n",
    "temperature_mean = tild_job.output.temperature_mean[-1]\n",
    "temperature_std = tild_job.output.temperature_std[-1]\n",
    "integrands = tild_job.output.integrands[-1]\n",
    "integrands_std = tild_job.output.integrands_std[-1]\n",
    "integrands_n_samples = tild_job.output.integrands_n_samples[-1]\n",
    "del_A_tild = tild_job.output.tild_free_energy_mean[-1]  # A, because this is the Helmholtz free energy\n",
    "del_A_tild_std = tild_job.output.tild_free_energy_std[-1]\n",
    "del_A_tild_se = tild_job.output.tild_free_energy_se[-1]\n",
    "del_A_fep = tild_job.output.fep_free_energy_mean[-1]\n",
    "del_A_fep_std = tild_job.output.fep_free_energy_std[-1]\n",
    "del_A_fep_se = tild_job.output.fep_free_energy_se[-1]\n",
    "\n",
    "# NOTE: The Helmholtz free energy from the FEP method returns a non-nan value, only if the initial and final\n",
    "# systems are very close in potential energy to each other!"
   ]
  },
  {
   "cell_type": "markdown",
   "id": "ba3de290",
   "metadata": {},
   "source": [
    "#### View output"
   ]
  },
  {
   "cell_type": "code",
   "execution_count": 12,
   "id": "d96baad3",
   "metadata": {
    "ExecuteTime": {
     "end_time": "2021-06-04T15:38:40.035649Z",
     "start_time": "2021-06-04T15:38:35.710Z"
    }
   },
   "outputs": [
    {
     "name": "stdout",
     "output_type": "stream",
     "text": [
      "mean temperature: 205.94699627954296 K\n"
     ]
    }
   ],
   "source": [
    "# Check temperature of each lambda point\n",
    "\n",
    "print('mean temperature: {} K'.format(np.mean(temperature_mean)))"
   ]
  },
  {
   "cell_type": "code",
   "execution_count": 13,
   "id": "8071b602",
   "metadata": {},
   "outputs": [
    {
     "name": "stdout",
     "output_type": "stream",
     "text": [
      "Lambdas:  [0.         0.53488372 1.        ]\n",
      "Integrands plot: \n"
     ]
    },
    {
     "data": {
      "image/png": "[encoded data removed]",
      "text/plain": [
       "<Figure size 432x288 with 1 Axes>"
      ]
     },
     "metadata": {
      "needs_background": "light"
     },
     "output_type": "display_data"
    },
    {
     "data": {
      "text/plain": [
       "(<Figure size 432x288 with 1 Axes>,\n",
       " <AxesSubplot:xlabel='Lambda', ylabel='dF/dLambda'>)"
      ]
     },
     "execution_count": 13,
     "metadata": {},
     "output_type": "execute_result"
    }
   ],
   "source": [
    "# Some inbuilt functions\n",
    "\n",
    "print('Lambdas: ', tild_job.get_lambdas())\n",
    "print('Integrands plot: ')\n",
    "tild_job.plot_tild_integrands()"
   ]
  },
  {
   "cell_type": "code",
   "execution_count": 14,
   "id": "ae9a278b",
   "metadata": {
    "ExecuteTime": {
     "end_time": "2021-06-04T15:38:40.036178Z",
     "start_time": "2021-06-04T15:38:35.711Z"
    }
   },
   "outputs": [
    {
     "name": "stdout",
     "output_type": "stream",
     "text": [
      "del_A_tild: 3978.2347139985573 meV\n",
      "del_A_fep: 3957.364882664834 meV\n"
     ]
    }
   ],
   "source": [
    "# Helmholtz free energy, A, between the interacting system, and the same system with a (quantum) harmonic \n",
    "# oscillator using TILD and FEP\n",
    "\n",
    "print('del_A_tild: {} meV'.format(del_A_tild * 1e3))  # * 1e3 to convert it to meV\n",
    "print('del_A_fep: {} meV'.format(del_A_fep * 1e3))"
   ]
  },
  {
   "cell_type": "code",
   "execution_count": 15,
   "id": "0dedd6de",
   "metadata": {
    "ExecuteTime": {
     "end_time": "2021-06-04T15:38:40.036739Z",
     "start_time": "2021-06-04T15:38:35.712Z"
    }
   },
   "outputs": [],
   "source": [
    "# get the quantum harmonic free energy of the oscillator/s\n",
    "\n",
    "def get_quantum_harmonic_free_energy(temperature=temperature, spring_constant=spring_constant):\n",
    "    \"\"\"\n",
    "    Get the total free energy of a harmonic oscillator with this frequency and these atoms. Temperature is\n",
    "        clipped at 1 micro-Kelvin.\n",
    "    Returns:\n",
    "        float/np.ndarray: The sum of the free energy of each atom.\n",
    "    \"\"\"\n",
    "    temperature = np.clip(temperature, 1e-6, np.inf)\n",
    "    beta = 1. / (KB * temperature)\n",
    "    f = []\n",
    "    masses = zero.get_structure().get_masses()\n",
    "    for i, v in enumerate(ref_job_b.input.oscillators_id_list):\n",
    "        hbar_omega = HBAR * np.sqrt(ref_job_b.input.spring_constants_list[i] / masses[v]) \\\n",
    "                     * ROOT_EV_PER_ANGSTROM_SQUARE_PER_AMU_IN_S\n",
    "        f.append((3. / 2) * hbar_omega + ((3. / beta) * np.log(1 - np.exp(-beta * hbar_omega))))\n",
    "    return np.array(f)"
   ]
  },
  {
   "cell_type": "code",
   "execution_count": 16,
   "id": "00a9ba44",
   "metadata": {
    "ExecuteTime": {
     "end_time": "2021-06-04T15:38:40.037287Z",
     "start_time": "2021-06-04T15:38:35.714Z"
    }
   },
   "outputs": [],
   "source": [
    "# total analytical free energy of the quantum harmonic oscialltor/s\n",
    "\n",
    "A_qh_osc = get_quantum_harmonic_free_energy().sum()"
   ]
  },
  {
   "cell_type": "code",
   "execution_count": 17,
   "id": "b935ca8d",
   "metadata": {
    "ExecuteTime": {
     "end_time": "2021-06-04T15:38:40.037815Z",
     "start_time": "2021-06-04T15:38:35.714Z"
    }
   },
   "outputs": [
    {
     "name": "stdout",
     "output_type": "stream",
     "text": [
      "A_tild_vac: 4.002928761865417 eV\n",
      "A_fep_vac: 3.9820589305316942 eV\n"
     ]
    }
   ],
   "source": [
    "# change in free energy while converting 1 of the interacting atoms to a vacancy\n",
    "\n",
    "A_tild_vac = del_A_tild - A_qh_osc\n",
    "A_fep_vac = del_A_fep - A_qh_osc\n",
    "print('A_tild_vac: {} eV'.format(A_tild_vac))\n",
    "print('A_fep_vac: {} eV'.format(A_fep_vac))\n",
    "\n",
    "# NOTE: This is NOT the vacancy formation energy!"
   ]
  },
  {
   "cell_type": "code",
   "execution_count": 18,
   "id": "7bebab54",
   "metadata": {
    "ExecuteTime": {
     "end_time": "2021-06-04T15:38:40.038364Z",
     "start_time": "2021-06-04T15:38:35.715Z"
    }
   },
   "outputs": [
    {
     "name": "stdout",
     "output_type": "stream",
     "text": [
      "A_vac_form: 0.5876802592979384\n"
     ]
    }
   ],
   "source": [
    "# vacancy formation energy\n",
    "\n",
    "A_tild = -3.4152485025674784  # ev/atom, from notebook 'protocol_tild_harmonic_to_eam_example.ipynb'\n",
    "A_vac_form = A_tild + A_tild_vac\n",
    "print('A_vac_form: {}'.format(A_vac_form))"
   ]
  },
  {
   "cell_type": "code",
   "execution_count": null,
   "id": "c9f796fc",
   "metadata": {},
   "outputs": [],
   "source": []
  }
 ],
 "metadata": {
  "kernelspec": {
   "display_name": "Python 3",
   "language": "python",
   "name": "python3"
  },
  "language_info": {
   "codemirror_mode": {
    "name": "ipython",
    "version": 3
   },
   "file_extension": ".py",
   "mimetype": "text/x-python",
   "name": "python",
   "nbconvert_exporter": "python",
   "pygments_lexer": "ipython3",
   "version": "3.8.8"
  }
 },
 "nbformat": 4,
 "nbformat_minor": 5
}
