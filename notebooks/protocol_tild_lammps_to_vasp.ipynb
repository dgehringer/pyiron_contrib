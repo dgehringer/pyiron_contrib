{
 "cells": [
  {
   "cell_type": "markdown",
   "id": "d2b12786",
   "metadata": {},
   "source": [
    "# TILD (NVT) -- Lammps to Vasp (low convergence)"
   ]
  },
  {
   "cell_type": "markdown",
   "id": "e84031e1",
   "metadata": {},
   "source": [
    "### Introduction"
   ]
  },
  {
   "cell_type": "markdown",
   "id": "aca77e29",
   "metadata": {},
   "source": [
    "This notebook is an example of the 'ProtocolTILDNVTPar' job in pyiron_contrib, which can be used to find the free energy difference $\\Delta F$ between two systems of atoms $\\mathrm{A}$ and $\\mathrm{B}$ in a canonical ($NVT$) ensemble, given by the formula,\n",
    "\n",
    "$\\Delta F_\\mathrm{A\\rightarrow B}(N, V, T) = \\int_0^1 \\langle U_\\mathrm{B}(\\lambda) - U_\\mathrm{A}(\\lambda) \\rangle_{(\\lambda, N, V, T)} d\\lambda$,\n",
    "\n",
    "where $\\lambda$ is the coupling parameter and $U$ is the potential energy of the system."
   ]
  },
  {
   "cell_type": "markdown",
   "id": "693b5d75",
   "metadata": {},
   "source": [
    "#### Lammps to Vasp (low convergence)\n",
    "\n",
    "Here, we find the free energy difference between a system using the Lammps calculator (as system $\\mathrm{A}$) and the same system using the Vasp (low convergence) calculator (as system $\\mathrm{B}$)."
   ]
  },
  {
   "cell_type": "markdown",
   "id": "c4ea48b4",
   "metadata": {},
   "source": [
    "### Pre-job setup"
   ]
  },
  {
   "cell_type": "code",
   "execution_count": 1,
   "id": "f6cc48f4",
   "metadata": {
    "ExecuteTime": {
     "end_time": "2021-06-14T17:58:07.067143Z",
     "start_time": "2021-06-14T17:58:04.131773Z"
    }
   },
   "outputs": [],
   "source": [
    "# imports\n",
    "\n",
    "import numpy as np\n",
    "import matplotlib.pyplot as plt\n",
    "\n",
    "from pyiron_atomistics import Project\n",
    "import pyiron_contrib"
   ]
  },
  {
   "cell_type": "code",
   "execution_count": 2,
   "id": "80f6bb38",
   "metadata": {
    "ExecuteTime": {
     "end_time": "2021-06-14T17:58:12.284052Z",
     "start_time": "2021-06-14T17:58:07.068819Z"
    }
   },
   "outputs": [],
   "source": [
    "# define project\n",
    "\n",
    "pr = Project('tild_lammps_to_vasp')\n",
    "pr.remove_jobs(recursive=True)"
   ]
  },
  {
   "cell_type": "markdown",
   "id": "77f1f600",
   "metadata": {},
   "source": [
    "#### Inputs"
   ]
  },
  {
   "cell_type": "code",
   "execution_count": 4,
   "id": "d7cd7383",
   "metadata": {
    "ExecuteTime": {
     "end_time": "2021-06-14T17:58:12.527702Z",
     "start_time": "2021-06-14T17:58:12.523984Z"
    }
   },
   "outputs": [],
   "source": [
    "# structure specific\n",
    "element = 'Al'\n",
    "crystal_structure = 'fcc'\n",
    "supercell = 2\n",
    "lammps_potential = '2008--Mendelev-M-I--Al--LAMMPS--ipr1'\n",
    "a = 4.073603  # obtained from calc_md at 300K using Lammps.\n",
    "\n",
    "# vasp specific\n",
    "vasp_mesh = [3]*3\n",
    "vasp_encut = 250.\n",
    "vasp_potential = 'Al'\n",
    "\n",
    "# tild specific\n",
    "temperature = 300.\n",
    "n_lambdas = 3  # number of 'lambda'/integration points\n",
    "n_steps = 4  # MD steps\n",
    "thermalization_steps = 1  # number of steps to equilibrate the system for\n",
    "sampling_steps = 1  # collect a 'sample' every 'sampling_period' steps \n",
    "convergence_steps = 2  # number of steps after which to check for convergence\n",
    "fe_tol = 1e-3  # convergence criterion 0.1 meV \n",
    "overheat_fraction = 1.  # since this is a DFT-MD job, we set it to 1. For longer runs, set to 2.\n",
    "time_step = 10.  # larger timestep too, since it is a DFT-MD job\n",
    "\n",
    "# cluster specific\n",
    "queue = 'cmti'\n",
    "tild_cores = 6  # if running on the headnode, use 1! Otherwise, set to n_lambdas\n",
    "tild_run_time = 144000  # in seconds"
   ]
  },
  {
   "cell_type": "markdown",
   "id": "8befce02",
   "metadata": {},
   "source": [
    "#### 0 K relaxation"
   ]
  },
  {
   "cell_type": "code",
   "execution_count": 5,
   "id": "03cdb19c",
   "metadata": {
    "ExecuteTime": {
     "end_time": "2021-06-14T17:58:13.945621Z",
     "start_time": "2021-06-14T17:58:12.528753Z"
    }
   },
   "outputs": [
    {
     "name": "stdout",
     "output_type": "stream",
     "text": [
      "The job zero was saved and received the ID: 15275062\n"
     ]
    },
    {
     "name": "stderr",
     "output_type": "stream",
     "text": [
      "/u/rads/pyiron_repos/pyiron_atomistics/pyiron_atomistics/lammps/units.py:202: UserWarning: Warning: Couldn't determine the LAMMPS to pyiron unit conversion type of quantity steps. Returning un-normalized quantity\n",
      "  \"{}. Returning un-normalized quantity\".format(label))\n",
      "/u/rads/pyiron_repos/pyiron_atomistics/pyiron_atomistics/lammps/units.py:202: UserWarning: Warning: Couldn't determine the LAMMPS to pyiron unit conversion type of quantity indices. Returning un-normalized quantity\n",
      "  \"{}. Returning un-normalized quantity\".format(label))\n",
      "/u/rads/pyiron_repos/pyiron_atomistics/pyiron_atomistics/lammps/units.py:202: UserWarning: Warning: Couldn't determine the LAMMPS to pyiron unit conversion type of quantity velocities. Returning un-normalized quantity\n",
      "  \"{}. Returning un-normalized quantity\".format(label))\n",
      "/u/rads/pyiron_repos/pyiron_atomistics/pyiron_atomistics/lammps/units.py:202: UserWarning: Warning: Couldn't determine the LAMMPS to pyiron unit conversion type of quantity steps. Returning un-normalized quantity\n",
      "  \"{}. Returning un-normalized quantity\".format(label))\n"
     ]
    }
   ],
   "source": [
    "pr_zero = pr.create_group('ionic_relaxation')\n",
    "\n",
    "zero = pr_zero.create.job.Lammps('zero')\n",
    "zero.structure = pr.create.structure.bulk(\n",
    "    name=element, \n",
    "    crystalstructure=crystal_structure, \n",
    "    cubic=crystal_structure.lower() in ['fcc', 'bcc'],\n",
    "    orthorhombic=crystal_structure.lower() in ['hcp']\n",
    ").repeat(supercell)\n",
    "n_atoms = len(zero.structure.positions)\n",
    "zero.potential = potential\n",
    "zero.calc_minimize(pressure=None)  # we keep the volume constant! (because we obtain the lattice constant from MD)\n",
    "zero.run()\n",
    "\n",
    "zero_k_energy = zero.output.energy_pot[-1]"
   ]
  },
  {
   "cell_type": "markdown",
   "id": "b90498d2",
   "metadata": {},
   "source": [
    "### TILDNVT job"
   ]
  },
  {
   "cell_type": "markdown",
   "id": "9273e3c8",
   "metadata": {},
   "source": [
    "#### Reference jobs\n",
    "\n",
    "The 'ProtocolTILDNVTPar' job takes 'reference jobs' for the systems $\\mathrm{A}$ and $\\mathrm{B}$ as inputs. Here, we specify system $\\mathrm{A}$ as a 'Lammps' job. System $\\mathrm{B}$ is a 'Vasp' job."
   ]
  },
  {
   "cell_type": "code",
   "execution_count": 6,
   "id": "b35fe561",
   "metadata": {
    "ExecuteTime": {
     "end_time": "2021-06-14T17:58:16.529245Z",
     "start_time": "2021-06-14T17:58:13.988055Z"
    }
   },
   "outputs": [
    {
     "name": "stdout",
     "output_type": "stream",
     "text": [
      "The job ref_job_a was saved and received the ID: 15275063\n",
      "The job ref_job_b was saved and received the ID: 15275064\n"
     ]
    }
   ],
   "source": [
    "pr_tild = pr.create_group('tild_jobs')\n",
    "\n",
    "# reference job A -> Lammps\n",
    "ref_job_a = pr_tild.create_job(pr.job_type.Lammps, 'ref_job_a', delete_existing_job=True)\n",
    "ref_job_a.structure = zero.get_structure().copy()\n",
    "ref_job_a.potential = lammps_potential\n",
    "ref_job_a.save()\n",
    "\n",
    "# reference job B -> Vasp\n",
    "ref_job_b = pr_tild.create_job(pr.job_type.Vasp, 'ref_job_b', delete_existing_job=True)\n",
    "ref_job_b.structure = zero.get_structure().copy()\n",
    "ref_job_b.set_kpoints(mesh=vasp_mesh)\n",
    "ref_job_b.set_encut(encut=vasp_encut)\n",
    "ref_job_b.interactive_prepare()\n",
    "# ref_job_b.server.run_mode.interactive = True  # gives an error if the following 2 lines are not run!\n",
    "# ref_job_b._run_if_new()\n",
    "ref_job_b.save()"
   ]
  },
  {
   "cell_type": "markdown",
   "id": "abe1c114",
   "metadata": {},
   "source": [
    "#### Submit and run the job"
   ]
  },
  {
   "cell_type": "code",
   "execution_count": 7,
   "id": "805586a0",
   "metadata": {
    "ExecuteTime": {
     "end_time": "2021-06-14T18:03:32.931218Z",
     "start_time": "2021-06-14T17:58:16.573393Z"
    }
   },
   "outputs": [
    {
     "name": "stdout",
     "output_type": "stream",
     "text": [
      "The job tild_job was saved and received the ID: 15275065\n",
      "The job create_jobs_a_0 was saved and received the ID: 15275066\n",
      "The job create_jobs_a_1 was saved and received the ID: 15275067\n",
      "The job create_jobs_a_2 was saved and received the ID: 15275068\n",
      "The job create_jobs_b_0 was saved and received the ID: 15275069\n",
      "The job create_jobs_b_1 was saved and received the ID: 15275070\n",
      "The job create_jobs_b_2 was saved and received the ID: 15275071\n"
     ]
    },
    {
     "name": "stderr",
     "output_type": "stream",
     "text": [
      "/u/rads/pyiron_repos/pyiron_base/pyiron_base/generic/parameters.py:283: UserWarning: The input in GenericParameters changed, while the state of the job was already finished.\n",
      "  \"The input in GenericParameters changed, while the state of the job was already finished.\"\n",
      "/u/rads/pyiron_repos/pyiron_base/pyiron_base/generic/parameters.py:283: UserWarning: The input in GenericParameters changed, while the state of the job was already finished.\n",
      "  \"The input in GenericParameters changed, while the state of the job was already finished.\"\n",
      "/u/rads/pyiron_repos/pyiron_base/pyiron_base/generic/parameters.py:283: UserWarning: The input in GenericParameters changed, while the state of the job was already finished.\n",
      "  \"The input in GenericParameters changed, while the state of the job was already finished.\"\n"
     ]
    },
    {
     "name": "stdout",
     "output_type": "stream",
     "text": [
      "Convergence not reached in 2 steps. Continuing run...\n"
     ]
    },
    {
     "name": "stderr",
     "output_type": "stream",
     "text": [
      "/u/rads/pyiron_repos/pyiron_base/pyiron_base/generic/parameters.py:283: UserWarning: The input in GenericParameters changed, while the state of the job was already finished.\n",
      "  \"The input in GenericParameters changed, while the state of the job was already finished.\"\n",
      "/u/rads/pyiron_repos/pyiron_base/pyiron_base/generic/parameters.py:283: UserWarning: The input in GenericParameters changed, while the state of the job was already finished.\n",
      "  \"The input in GenericParameters changed, while the state of the job was already finished.\"\n",
      "/u/rads/pyiron_repos/pyiron_base/pyiron_base/generic/parameters.py:283: UserWarning: The input in GenericParameters changed, while the state of the job was already finished.\n",
      "  \"The input in GenericParameters changed, while the state of the job was already finished.\"\n"
     ]
    },
    {
     "name": "stdout",
     "output_type": "stream",
     "text": [
      "Maximum steps (4) reached. Stopping run.\n"
     ]
    }
   ],
   "source": [
    "tild_job = pr_tild.create_job(pr.job_type.ProtoTILDPar, 'tild_job')\n",
    "\n",
    "# Tip: The documentation for the job can be accessed by running 'tild_job?' after the job has been defined!\n",
    "    \n",
    "tild_job.input.temperature = temperature\n",
    "tild_job.input.ref_job_a_full_path = ref_job_a.path\n",
    "tild_job.input.ref_job_b_full_path = ref_job_b.path\n",
    "tild_job.input.n_lambdas = n_lambdas\n",
    "tild_job.input.n_steps = n_steps\n",
    "tild_job.input.thermalization_steps = thermalization_steps\n",
    "tild_job.input.sampling_steps = sampling_steps\n",
    "tild_job.input.convergence_check_steps = convergence_steps\n",
    "tild_job.input.fe_tol = fe_tol\n",
    "tild_job.input.time_step = time_step\n",
    "tild_job.input.overheat_fraction = overheat_fraction\n",
    "\n",
    "# # in addition to these inputs, you can also modify the following inputs\n",
    "# tild_job.input.lambda_bias = 0.5\n",
    "# tild_job.input.temperature_damping_timescale = 100.\n",
    "# tild_job.input.cutoff_factor = 0.5\n",
    "# tild_job.input.use_reflection = False\n",
    "# tild_job.input.zero_k_energy = 0. # incase you want to provide an energy offset to the HessianJob\n",
    "\n",
    "# # set this only if you're running this on your local PC, and/or using MySQL as your DB manager\n",
    "# tild_job.input.sleep_time = 0.1  \n",
    "\n",
    "# cluster inputs\n",
    "tild_job.server.cores = tild_cores\n",
    "# tild_job.server.queue = queue\n",
    "# tild_job.server.run_time = tild_run_time\n",
    "\n",
    "# run_job\n",
    "tild_job.run()"
   ]
  },
  {
   "cell_type": "markdown",
   "id": "4a123f47",
   "metadata": {
    "ExecuteTime": {
     "end_time": "2021-05-31T07:57:08.801236Z",
     "start_time": "2021-05-31T07:57:08.798272Z"
    }
   },
   "source": [
    "#### Load the job"
   ]
  },
  {
   "cell_type": "code",
   "execution_count": 8,
   "id": "dc10105d",
   "metadata": {
    "ExecuteTime": {
     "end_time": "2021-06-14T18:03:41.600837Z",
     "start_time": "2021-06-14T18:03:32.968480Z"
    }
   },
   "outputs": [
    {
     "name": "stdout",
     "output_type": "stream",
     "text": [
      "job loaded\n"
     ]
    }
   ],
   "source": [
    "if tild_job.status == 'finished':\n",
    "    path = Project(str(pr.base_name) + '/' + str(pr_tild.base_name))\n",
    "    tild_job = path.load(tild_job.job_name)  # here we load\n",
    "    print('job loaded')\n",
    "else:\n",
    "    print('job still running')"
   ]
  },
  {
   "cell_type": "markdown",
   "id": "dfd88b70",
   "metadata": {
    "ExecuteTime": {
     "start_time": "2021-05-31T08:03:49.485Z"
    }
   },
   "source": [
    "#### Collect output"
   ]
  },
  {
   "cell_type": "code",
   "execution_count": 9,
   "id": "7cfe66ae",
   "metadata": {
    "ExecuteTime": {
     "end_time": "2021-06-14T18:03:41.655340Z",
     "start_time": "2021-06-14T18:03:41.651205Z"
    }
   },
   "outputs": [],
   "source": [
    "total_steps = tild_job.output.total_steps[-1]\n",
    "lambdas = tild_job.output.lambdas[-1]\n",
    "temperature_mean = tild_job.output.temperature_mean[-1]\n",
    "temperature_std = tild_job.output.temperature_std[-1]\n",
    "integrands = tild_job.output.integrands[-1]\n",
    "integrands_std = tild_job.output.integrands_std[-1]\n",
    "integrands_n_samples = tild_job.output.integrands_n_samples[-1]\n",
    "del_A_tild = tild_job.output.tild_free_energy_mean[-1]  # A, because this is the Helmholtz free energy\n",
    "del_A_tild_std = tild_job.output.tild_free_energy_std[-1]\n",
    "del_A_tild_se = tild_job.output.tild_free_energy_se[-1]\n",
    "\n",
    "# also records output using free energy perturbation method \n",
    "del_A_fep = tild_job.output.fep_free_energy_mean[-1]\n",
    "del_A_fep_std = tild_job.output.fep_free_energy_std[-1]\n",
    "del_A_fep_se = tild_job.output.fep_free_energy_se[-1]\n",
    "\n",
    "# NOTE: The Helmholtz free energy from the FEP method returns a non-nan value, only if the systems A and B are \n",
    "# very close in potential energy to each other!"
   ]
  },
  {
   "cell_type": "markdown",
   "id": "8c312c5f",
   "metadata": {},
   "source": [
    "#### View output"
   ]
  },
  {
   "cell_type": "code",
   "execution_count": 10,
   "id": "6daaac56",
   "metadata": {
    "ExecuteTime": {
     "end_time": "2021-06-14T18:03:41.663927Z",
     "start_time": "2021-06-14T18:03:41.656329Z"
    }
   },
   "outputs": [
    {
     "name": "stdout",
     "output_type": "stream",
     "text": [
      "mean temperature: 203.91582539392718 K\n"
     ]
    }
   ],
   "source": [
    "# Check average temperature of the lambda points\n",
    "\n",
    "print('mean temperature: {} K'.format(np.mean(temperature_mean)))"
   ]
  },
  {
   "cell_type": "code",
   "execution_count": 11,
   "id": "f823bb54",
   "metadata": {
    "ExecuteTime": {
     "end_time": "2021-06-14T18:03:41.768502Z",
     "start_time": "2021-06-14T18:03:41.665006Z"
    }
   },
   "outputs": [
    {
     "name": "stdout",
     "output_type": "stream",
     "text": [
      "Lambdas:  [0.  0.5 1. ]\n",
      "Integrands plot: \n"
     ]
    },
    {
     "data": {
      "image/png": "[encoded data removed]",
      "text/plain": [
       "<Figure size 432x288 with 1 Axes>"
      ]
     },
     "metadata": {
      "needs_background": "light"
     },
     "output_type": "display_data"
    },
    {
     "data": {
      "text/plain": [
       "(<Figure size 432x288 with 1 Axes>,\n",
       " <AxesSubplot:xlabel='Lambda', ylabel='dF/dLambda'>)"
      ]
     },
     "execution_count": 11,
     "metadata": {},
     "output_type": "execute_result"
    }
   ],
   "source": [
    "# Some inbuilt functions\n",
    "\n",
    "print('Lambdas: ', tild_job.get_lambdas())\n",
    "print('Integrands plot: ')\n",
    "tild_job.plot_tild_integrands()"
   ]
  },
  {
   "cell_type": "code",
   "execution_count": 12,
   "id": "2be3baca",
   "metadata": {
    "ExecuteTime": {
     "end_time": "2021-06-14T18:03:41.771814Z",
     "start_time": "2021-06-14T18:03:41.769544Z"
    }
   },
   "outputs": [
    {
     "name": "stdout",
     "output_type": "stream",
     "text": [
      "del_A_tild: -11.390898353401894 eV\n",
      "del_A_fep: -12.096815101095554 eV\n"
     ]
    }
   ],
   "source": [
    "# Helmholtz free energy between the 2 systems using TILD and FEP\n",
    "\n",
    "print('del_A_tild: {} eV'.format(del_A_tild))  # * 1e3 to convert it to meV\n",
    "print('del_A_fep: {} eV'.format(del_A_fep))"
   ]
  },
  {
   "cell_type": "code",
   "execution_count": 13,
   "id": "56a9f604",
   "metadata": {
    "ExecuteTime": {
     "end_time": "2021-06-14T18:03:41.779725Z",
     "start_time": "2021-06-14T18:03:41.772798Z"
    }
   },
   "outputs": [
    {
     "name": "stdout",
     "output_type": "stream",
     "text": [
      "A_tild_dft_per_atom: -3.7714688149544764 eV/atom\n",
      "A_fep_dft_per_atom: -3.7935287133199034 eV/atom\n"
     ]
    }
   ],
   "source": [
    "# total free energy of system (Vasp)\n",
    "\n",
    "A_tild = -3.415503241410667  # eV/atom, from notebook 'protocol_tild_harmonic_to_eam_example.ipynb'\n",
    "A_tild_dft_per_atom = A_tild + (del_A_tild / n_atoms)\n",
    "A_fep_dft_per_atom = A_tild + (del_A_fep / n_atoms)\n",
    "print('A_tild_dft_per_atom: {} eV/atom'.format(A_tild_dft_per_atom))\n",
    "print('A_fep_dft_per_atom: {} eV/atom'.format(A_fep_dft_per_atom))"
   ]
  },
  {
   "cell_type": "code",
   "execution_count": null,
   "id": "1f5b0d54",
   "metadata": {},
   "outputs": [],
   "source": []
  }
 ],
 "metadata": {
  "kernelspec": {
   "display_name": "Python 3",
   "language": "python",
   "name": "python3"
  },
  "language_info": {
   "codemirror_mode": {
    "name": "ipython",
    "version": 3
   },
   "file_extension": ".py",
   "mimetype": "text/x-python",
   "name": "python",
   "nbconvert_exporter": "python",
   "pygments_lexer": "ipython3",
   "version": "3.8.8"
  }
 },
 "nbformat": 4,
 "nbformat_minor": 5
}
