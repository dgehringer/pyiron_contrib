{
 "cells": [
  {
   "cell_type": "markdown",
   "id": "d2b12786",
   "metadata": {},
   "source": [
    "# TILD (NVT) -- Harmonic oscillators to interacting atoms"
   ]
  },
  {
   "cell_type": "markdown",
   "id": "41d84556",
   "metadata": {},
   "source": [
    "### Introduction"
   ]
  },
  {
   "cell_type": "markdown",
   "id": "7eb42775",
   "metadata": {},
   "source": [
    "This notebook is an example of the 'ProtocolTILDNVTPar' job in pyiron_contrib, which can be used to find the free energy difference $\\Delta F$ between two systems of atoms $\\mathrm{A}$ and $\\mathrm{B}$ in a canonical ($NVT$) ensemble, given by the formula,\n",
    "\n",
    "$\\Delta F_\\mathrm{A\\rightarrow B}(N, V, T) = \\int_0^1 \\langle U_\\mathrm{B}(\\lambda) - U_\\mathrm{A}(\\lambda) \\rangle_{(\\lambda, N, V, T)} d\\lambda$,\n",
    "\n",
    "where $\\lambda$ is the coupling parameter and $U$ is the potential energy of the system."
   ]
  },
  {
   "cell_type": "markdown",
   "id": "9cfed256",
   "metadata": {},
   "source": [
    "#### Harmonic oscillators to interacting atoms\n",
    "\n",
    "Here, we find the free energy difference between a system of non-interacting harmonic oscillators (Debye atoms) (as system $\\mathrm{A}$) and a system of fully interacting atoms (as system $\\mathrm{B}$)."
   ]
  },
  {
   "cell_type": "markdown",
   "id": "6a2a4194",
   "metadata": {},
   "source": [
    "### Pre-job setup"
   ]
  },
  {
   "cell_type": "code",
   "execution_count": 1,
   "id": "f6cc48f4",
   "metadata": {
    "ExecuteTime": {
     "end_time": "2021-06-08T13:25:42.395052Z",
     "start_time": "2021-06-08T13:25:42.392247Z"
    }
   },
   "outputs": [],
   "source": [
    "# imports\n",
    "\n",
    "import numpy as np\n",
    "import matplotlib.pyplot as plt\n",
    "\n",
    "from pyiron_atomistics import Project\n",
    "import pyiron_contrib"
   ]
  },
  {
   "cell_type": "code",
   "execution_count": 2,
   "id": "80f6bb38",
   "metadata": {
    "ExecuteTime": {
     "end_time": "2021-06-08T13:25:46.534399Z",
     "start_time": "2021-06-08T13:25:43.515408Z"
    }
   },
   "outputs": [],
   "source": [
    "# define project\n",
    "\n",
    "pr = Project('tild_harm_to_eam')\n",
    "pr.remove_jobs(recursive=True)"
   ]
  },
  {
   "cell_type": "markdown",
   "id": "4e7532e6",
   "metadata": {},
   "source": [
    "#### Inputs"
   ]
  },
  {
   "cell_type": "code",
   "execution_count": 4,
   "id": "d7cd7383",
   "metadata": {
    "ExecuteTime": {
     "end_time": "2021-06-08T13:25:53.198709Z",
     "start_time": "2021-06-08T13:25:53.194937Z"
    }
   },
   "outputs": [],
   "source": [
    "# structure specific\n",
    "element = 'Al'\n",
    "crystal_structure = 'fcc'\n",
    "supercell = 3\n",
    "potential = '2008--Mendelev-M-I--Al--LAMMPS--ipr1'\n",
    "a = 4.073603  # obtained from calc_md at 300K. \n",
    "\n",
    "# tild specific\n",
    "temperature = 300.\n",
    "n_lambdas = 3  # number of 'lambda'/integration points\n",
    "n_steps = 100  # MD steps\n",
    "thermalization_steps = 10 # number of steps to equilibrate the system for\n",
    "sampling_steps = 5  # collect a 'sample' every 'sampling_period' steps \n",
    "convergence_steps = 50  # number of steps after which to check for convergence\n",
    "fe_tol = 1e-3  # convergence criterion 0.1 meV \n",
    "\n",
    "# cluster specific\n",
    "queue = 'cmti'\n",
    "phon_cores = 2\n",
    "phon_run_time = 1800  # in seconds\n",
    "tild_cores = n_lambdas  # if running on the headnode, use 1! Otherwise, set to n_lambdas\n",
    "tild_run_time = 14400  # in seconds"
   ]
  },
  {
   "cell_type": "markdown",
   "id": "d52f24da",
   "metadata": {},
   "source": [
    "#### 0 K relaxation"
   ]
  },
  {
   "cell_type": "code",
   "execution_count": 5,
   "id": "03cdb19c",
   "metadata": {
    "ExecuteTime": {
     "end_time": "2021-06-08T13:26:13.505636Z",
     "start_time": "2021-06-08T13:26:12.510446Z"
    }
   },
   "outputs": [
    {
     "name": "stdout",
     "output_type": "stream",
     "text": [
      "The job zero was saved and received the ID: 971\n"
     ]
    },
    {
     "name": "stderr",
     "output_type": "stream",
     "text": [
      "/home/raynol025/pyiron/pyiron_atomistics/pyiron_atomistics/lammps/units.py:201: UserWarning: Warning: Couldn't determine the LAMMPS to pyiron unit conversion type of quantity steps. Returning un-normalized quantity\n",
      "  warnings.warn(message=\"Warning: Couldn't determine the LAMMPS to pyiron unit conversion type of quantity \"\n",
      "/home/raynol025/pyiron/pyiron_atomistics/pyiron_atomistics/lammps/units.py:201: UserWarning: Warning: Couldn't determine the LAMMPS to pyiron unit conversion type of quantity indices. Returning un-normalized quantity\n",
      "  warnings.warn(message=\"Warning: Couldn't determine the LAMMPS to pyiron unit conversion type of quantity \"\n",
      "/home/raynol025/pyiron/pyiron_atomistics/pyiron_atomistics/lammps/units.py:201: UserWarning: Warning: Couldn't determine the LAMMPS to pyiron unit conversion type of quantity velocities. Returning un-normalized quantity\n",
      "  warnings.warn(message=\"Warning: Couldn't determine the LAMMPS to pyiron unit conversion type of quantity \"\n",
      "/home/raynol025/pyiron/pyiron_atomistics/pyiron_atomistics/lammps/units.py:201: UserWarning: Warning: Couldn't determine the LAMMPS to pyiron unit conversion type of quantity steps. Returning un-normalized quantity\n",
      "  warnings.warn(message=\"Warning: Couldn't determine the LAMMPS to pyiron unit conversion type of quantity \"\n"
     ]
    }
   ],
   "source": [
    "pr_zero = pr.create_group('ionic_relaxation')\n",
    "\n",
    "zero = pr_zero.create.job.Lammps('zero')\n",
    "zero.structure = pr.create.structure.bulk(\n",
    "    name=element, \n",
    "    crystalstructure=crystal_structure, \n",
    "    cubic=crystal_structure.lower() in ['fcc', 'bcc'],\n",
    "    orthorhombic=crystal_structure.lower() in ['hcp']\n",
    ").repeat(supercell)\n",
    "n_atoms = len(zero.structure.positions)\n",
    "zero.potential = potential\n",
    "zero.calc_minimize(pressure=None)  # we keep the volume constant! (because we obtain the lattice constant from MD)\n",
    "zero.run()\n",
    "\n",
    "zero_k_energy = zero.output.energy_pot[-1]"
   ]
  },
  {
   "cell_type": "markdown",
   "id": "1ff602d2",
   "metadata": {},
   "source": [
    "#### Option A: Force constants from PhonopyJob\n",
    "\n",
    "Note: EITHER force constants (Debye atoms) OR a spring constant (Einstein atoms) can be provided as inputs to the HessianJob, but not both!"
   ]
  },
  {
   "cell_type": "code",
   "execution_count": 6,
   "id": "d7905a62",
   "metadata": {
    "ExecuteTime": {
     "end_time": "2021-06-07T19:26:05.412647Z",
     "start_time": "2021-06-07T19:24:52.494018Z"
    }
   },
   "outputs": [
    {
     "name": "stdout",
     "output_type": "stream",
     "text": [
      "The job phonopy_job was saved and received the ID: 972\n",
      "The job phon_ref_0 was saved and received the ID: 973\n"
     ]
    },
    {
     "name": "stderr",
     "output_type": "stream",
     "text": [
      "/home/raynol025/pyiron/pyiron_atomistics/pyiron_atomistics/lammps/units.py:201: UserWarning: Warning: Couldn't determine the LAMMPS to pyiron unit conversion type of quantity indices. Returning un-normalized quantity\n",
      "  warnings.warn(message=\"Warning: Couldn't determine the LAMMPS to pyiron unit conversion type of quantity \"\n",
      "/home/raynol025/pyiron/pyiron_atomistics/pyiron_atomistics/lammps/units.py:201: UserWarning: Warning: Couldn't determine the LAMMPS to pyiron unit conversion type of quantity velocities. Returning un-normalized quantity\n",
      "  warnings.warn(message=\"Warning: Couldn't determine the LAMMPS to pyiron unit conversion type of quantity \"\n",
      "/home/raynol025/pyiron/pyiron_atomistics/pyiron_atomistics/lammps/units.py:201: UserWarning: Warning: Couldn't determine the LAMMPS to pyiron unit conversion type of quantity steps. Returning un-normalized quantity\n",
      "  warnings.warn(message=\"Warning: Couldn't determine the LAMMPS to pyiron unit conversion type of quantity \"\n"
     ]
    }
   ],
   "source": [
    "# setup phonopy jobs -- to get the force constants!\n",
    "\n",
    "pr_phon = pr.create_group('phonons')\n",
    "\n",
    "phon_ref_job = pr_phon.create_job(pr.job_type.Lammps, 'phon_ref')\n",
    "phon_ref_job.structure = zero.get_structure()\n",
    "phon_ref_job.potential = potential\n",
    "\n",
    "phonopy_job = phon_ref_job.create_job(pr.job_type.PhonopyJob,'phonopy_job')\n",
    "phonopy_job.input['interaction_range'] = np.amin(np.linalg.norm(zero.get_structure().cell.array, axis=0)) - 1e-8\n",
    "\n",
    "# cluster inputs\n",
    "phonopy_job.server.cores = phon_cores\n",
    "# phonopy_job.server.queue = queue\n",
    "# phonopy_job.server.run_time = phon_run_time\n",
    "\n",
    "# run_job\n",
    "phonopy_job.run()"
   ]
  },
  {
   "cell_type": "code",
   "execution_count": 7,
   "id": "e28273a5",
   "metadata": {
    "ExecuteTime": {
     "end_time": "2021-06-07T19:28:40.447200Z",
     "start_time": "2021-06-07T19:28:24.348516Z"
    }
   },
   "outputs": [
    {
     "name": "stdout",
     "output_type": "stream",
     "text": [
      "job loaded\n"
     ]
    }
   ],
   "source": [
    "# load phonopy jobs, in case you ran this on the cluster    \n",
    "\n",
    "if phonopy_job.status == 'finished':\n",
    "    phon_path = Project(str(pr.base_name) + '/' + str(pr_phon.base_name))\n",
    "    phonopy_job = phon_path.load(phonopy_job.job_name)\n",
    "    print('job loaded')\n",
    "else:\n",
    "    print('job still running')"
   ]
  },
  {
   "cell_type": "code",
   "execution_count": 8,
   "id": "1c40632f",
   "metadata": {
    "ExecuteTime": {
     "end_time": "2021-06-07T20:05:21.304332Z",
     "start_time": "2021-06-07T20:05:21.284229Z"
    }
   },
   "outputs": [],
   "source": [
    "# extract qh free energies\n",
    "therm_prop = phonopy_job.get_thermal_properties(temperatures=temperature)\n",
    "A_qh = therm_prop.free_energies[-1]  # A, because this is the Helmholtz free energy\n",
    "\n",
    "# get force constants\n",
    "force_constants = phonopy_job.phonopy.force_constants"
   ]
  },
  {
   "cell_type": "markdown",
   "id": "5907fccd",
   "metadata": {},
   "source": [
    "#### Option 2: Spring constant\n",
    "\n",
    "Note: EITHER force constants (Debye atoms) OR a spring constant (Einstein atoms) can be provided as inputs to the HessianJob, but not both!"
   ]
  },
  {
   "cell_type": "code",
   "execution_count": 9,
   "id": "41661a01",
   "metadata": {
    "ExecuteTime": {
     "end_time": "2021-06-07T19:28:47.815343Z",
     "start_time": "2021-06-07T19:28:47.813287Z"
    }
   },
   "outputs": [],
   "source": [
    "# # in case you want a calculated guess of a single spring constant\n",
    "\n",
    "# # obtain a spring constant using 0K structure, by displacing a single atom\n",
    "# # a random spring constant can also be assumed, for example 1 or 5 eV/Ang^2\n",
    "\n",
    "# spring_folder = pr.create_group('spring_job')\n",
    "\n",
    "# # clear any existing spring_constant jobs\n",
    "# spring_folder.remove_jobs_silently(recursive=True)\n",
    "\n",
    "# spring_job = spring_folder.create_job(pr.job_type.Lammps, 'spring_job')\n",
    "# spring_job.structure = zero.get_structure()\n",
    "# spring_job.potential = potential\n",
    "\n",
    "# deviations = np.linspace(-0.5, 0.5, num=10)\n",
    "# restoring_forces = np.empty(deviations.shape)\n",
    "\n",
    "# spring_job.interactive_open()\n",
    "# for i, d in enumerate(deviations):\n",
    "#     spring_job.structure.positions[0, 0] = zero.get_structure().positions[0, 0] + d\n",
    "#     spring_job.calc_static()\n",
    "#     spring_job.run()\n",
    "#     restoring_forces[i] = spring_job.interactive_energy_pot_getter()\n",
    "# spring_job.interactive_close()\n",
    "\n",
    "# spring_constant = np.polyfit(deviations, restoring_forces, 2)[0]\n",
    "\n",
    "# print(\"A spring constant of {} eV/angstrom^2 was found\".format(spring_constant))"
   ]
  },
  {
   "cell_type": "markdown",
   "id": "877ba87c",
   "metadata": {},
   "source": [
    "### TILDNVT job"
   ]
  },
  {
   "cell_type": "markdown",
   "id": "62a133eb",
   "metadata": {},
   "source": [
    "#### Reference jobs\n",
    "\n",
    "The 'ProtocolTILDNVTPar' job takes 'reference jobs' for the systems $\\mathrm{A}$ and $\\mathrm{B}$ as inputs. Here, we specify system $\\mathrm{A}$ as a 'HessianJob' job, into which go the force constants/spring constant. System $\\mathrm{B}$ is a 'Lammps' job."
   ]
  },
  {
   "cell_type": "code",
   "execution_count": 10,
   "id": "b35fe561",
   "metadata": {
    "ExecuteTime": {
     "end_time": "2021-06-07T19:29:49.182892Z",
     "start_time": "2021-06-07T19:28:51.610445Z"
    }
   },
   "outputs": [
    {
     "name": "stdout",
     "output_type": "stream",
     "text": [
      "The job ref_job_a was saved and received the ID: 974\n",
      "The job ref_job_b was saved and received the ID: 975\n"
     ]
    },
    {
     "data": {
      "text/plain": [
       "975"
      ]
     },
     "execution_count": 10,
     "metadata": {},
     "output_type": "execute_result"
    }
   ],
   "source": [
    "pr_tild = pr.create_group('tild_jobs')\n",
    "\n",
    "# reference job A -> HessianJob\n",
    "ref_job_a = pr_tild.create.job.HessianJob('ref_job_a')\n",
    "ref_job_a.structure = zero.get_structure().copy()\n",
    "ref_job_a.set_reference_structure(zero.get_structure().copy())\n",
    "ref_job_a.set_force_constants(force_constants)\n",
    "ref_job_a.save()\n",
    "\n",
    "# reference job B -> Lammps\n",
    "ref_job_b = pr_tild.create_job(pr.job_type.Lammps, 'ref_job_b')\n",
    "ref_job_b.structure = zero.get_structure().copy()\n",
    "ref_job_b.potential = potential\n",
    "ref_job_b.save()"
   ]
  },
  {
   "cell_type": "markdown",
   "id": "8aef1d5a",
   "metadata": {},
   "source": [
    "#### Submit and run the job"
   ]
  },
  {
   "cell_type": "code",
   "execution_count": 11,
   "id": "805586a0",
   "metadata": {
    "ExecuteTime": {
     "end_time": "2021-06-07T19:30:07.983083Z",
     "start_time": "2021-06-07T19:29:49.871883Z"
    }
   },
   "outputs": [
    {
     "name": "stdout",
     "output_type": "stream",
     "text": [
      "The job tild_job was saved and received the ID: 976\n",
      "The job create_jobs_a_0 was saved and received the ID: 977\n",
      "The job create_jobs_a_1 was saved and received the ID: 978\n",
      "The job create_jobs_a_2 was saved and received the ID: 979\n",
      "The job create_jobs_b_0 was saved and received the ID: 980\n",
      "The job create_jobs_b_1 was saved and received the ID: 981\n",
      "The job create_jobs_b_2 was saved and received the ID: 982\n"
     ]
    },
    {
     "name": "stderr",
     "output_type": "stream",
     "text": [
      "/home/raynol025/pyiron/pyiron_base/pyiron_base/generic/parameters.py:282: UserWarning: The input in GenericParameters changed, while the state of the job was already finished.\n",
      "  warnings.warn(\n",
      "/home/raynol025/pyiron/pyiron_base/pyiron_base/generic/parameters.py:282: UserWarning: The input in GenericParameters changed, while the state of the job was already finished.\n",
      "  warnings.warn(\n",
      "/home/raynol025/pyiron/pyiron_base/pyiron_base/generic/parameters.py:282: UserWarning: The input in GenericParameters changed, while the state of the job was already finished.\n",
      "  warnings.warn(\n"
     ]
    },
    {
     "name": "stdout",
     "output_type": "stream",
     "text": [
      "Convergence not reached in 50 steps. Continuing run...\n"
     ]
    },
    {
     "name": "stderr",
     "output_type": "stream",
     "text": [
      "/home/raynol025/anaconda3/envs/pyiron_atomistics/lib/python3.8/site-packages/numpy/lib/function_base.py:2197: RuntimeWarning: invalid value encountered in <lambda> (vectorized)\n",
      "  outputs = ufunc(*inputs)\n",
      "/home/raynol025/pyiron/pyiron_base/pyiron_base/generic/parameters.py:282: UserWarning: The input in GenericParameters changed, while the state of the job was already finished.\n",
      "  warnings.warn(\n",
      "/home/raynol025/pyiron/pyiron_base/pyiron_base/generic/parameters.py:282: UserWarning: The input in GenericParameters changed, while the state of the job was already finished.\n",
      "  warnings.warn(\n",
      "/home/raynol025/pyiron/pyiron_base/pyiron_base/generic/parameters.py:282: UserWarning: The input in GenericParameters changed, while the state of the job was already finished.\n",
      "  warnings.warn(\n"
     ]
    },
    {
     "name": "stdout",
     "output_type": "stream",
     "text": [
      "Maximum steps (100) reached. Stopping run.\n"
     ]
    }
   ],
   "source": [
    "tild_job = pr_tild.create_job(pr.job_type.ProtoTILDPar, 'tild_job')\n",
    "\n",
    "# Tip: The documentation for the job can be accessed by running 'tild_job?' after the job has been defined!\n",
    "    \n",
    "tild_job.input.temperature = temperature\n",
    "tild_job.input.ref_job_a_full_path = ref_job_a.path\n",
    "tild_job.input.ref_job_b_full_path = ref_job_b.path\n",
    "tild_job.input.n_lambdas = n_lambdas\n",
    "tild_job.input.n_steps = n_steps\n",
    "tild_job.input.thermalization_steps = thermalization_steps\n",
    "tild_job.input.sampling_steps = sampling_steps\n",
    "tild_job.input.convergence_check_steps = convergence_steps\n",
    "tild_job.input.fe_tol = fe_tol\n",
    "\n",
    "# # in addition to these inputs, you can also modify the following inputs\n",
    "# tild_job.input.lambda_bias = 0.5\n",
    "# tild_job.input.time_step = 1.\n",
    "# tild_job.input.temperature_damping_timescale = 100.\n",
    "# tild_job.input.overheat_fraction = 2.\n",
    "# tild_job.input.cutoff_factor = 0.5\n",
    "# tild_job.input.use_reflection = False\n",
    "# tild_job.input.zero_k_energy = 0. # incase you want to provide an energy offset to the HessianJob\n",
    "\n",
    "# # set this only if you're running this on your local PC, and/or using MySQL as your DB manager\n",
    "# tild_job.input.sleep_time = 0.1  \n",
    "\n",
    "# cluster inputs\n",
    "tild_job.server.cores = tild_cores\n",
    "# tild_job.server.queue = queue\n",
    "# tild_job.server.run_time = tild_run_time\n",
    "\n",
    "# run_job\n",
    "tild_job.run()"
   ]
  },
  {
   "cell_type": "markdown",
   "id": "99f73a66",
   "metadata": {},
   "source": [
    "#### Load the job"
   ]
  },
  {
   "cell_type": "code",
   "execution_count": 12,
   "id": "e292a0b9",
   "metadata": {
    "ExecuteTime": {
     "end_time": "2021-06-07T20:01:25.225316Z",
     "start_time": "2021-06-07T20:01:25.223450Z"
    }
   },
   "outputs": [
    {
     "name": "stdout",
     "output_type": "stream",
     "text": [
      "job loaded\n"
     ]
    }
   ],
   "source": [
    "if tild_job.status == 'finished':\n",
    "    path = Project(str(pr.base_name) + '/' + str(pr_tild.base_name))\n",
    "    tild_job = path.load(tild_job.job_name)  # here we load\n",
    "    print('job loaded')\n",
    "else:\n",
    "    print('job still running')"
   ]
  },
  {
   "cell_type": "markdown",
   "id": "4528baee",
   "metadata": {
    "ExecuteTime": {
     "start_time": "2021-05-31T08:03:49.485Z"
    }
   },
   "source": [
    "#### Collect output"
   ]
  },
  {
   "cell_type": "code",
   "execution_count": 13,
   "id": "318db37b",
   "metadata": {},
   "outputs": [],
   "source": [
    "total_steps = tild_job.output.total_steps[-1]\n",
    "lambdas = tild_job.output.lambdas[-1]\n",
    "temperature_mean = tild_job.output.temperature_mean[-1]\n",
    "temperature_std = tild_job.output.temperature_std[-1]\n",
    "integrands = tild_job.output.integrands[-1]\n",
    "integrands_std = tild_job.output.integrands_std[-1]\n",
    "integrands_n_samples = tild_job.output.integrands_n_samples[-1]\n",
    "del_A_tild = tild_job.output.tild_free_energy_mean[-1]  # A, because this is the Helmholtz free energy\n",
    "del_A_tild_std = tild_job.output.tild_free_energy_std[-1]\n",
    "del_A_tild_se = tild_job.output.tild_free_energy_se[-1]\n",
    "\n",
    "# # also records output using free energy perturbation method \n",
    "# del_A_fep = tild_job.output.fep_free_energy_mean[-1]\n",
    "# del_A_fep_std = tild_job.output.fep_free_energy_std[-1]\n",
    "# del_A_fep_se = tild_job.output.fep_free_energy_se[-1]\n",
    "\n",
    "# NOTE: The Helmholtz free energy from the FEP method returns a non-nan value, only if the systems A and B are \n",
    "# very close in potential energy to each other!"
   ]
  },
  {
   "cell_type": "markdown",
   "id": "7d416554",
   "metadata": {},
   "source": [
    "#### View output"
   ]
  },
  {
   "cell_type": "code",
   "execution_count": 14,
   "id": "6daaac56",
   "metadata": {
    "ExecuteTime": {
     "end_time": "2021-06-07T20:01:57.458519Z",
     "start_time": "2021-06-07T20:01:57.456123Z"
    }
   },
   "outputs": [
    {
     "name": "stdout",
     "output_type": "stream",
     "text": [
      "mean temperature: 226.5255563800823 K\n"
     ]
    }
   ],
   "source": [
    "# Check average temperature of the lambda points\n",
    "\n",
    "print('mean temperature: {} K'.format(np.mean(temperature_mean)))"
   ]
  },
  {
   "cell_type": "code",
   "execution_count": 15,
   "id": "0d8571b2",
   "metadata": {
    "ExecuteTime": {
     "end_time": "2021-06-07T20:01:57.987588Z",
     "start_time": "2021-06-07T20:01:57.898108Z"
    }
   },
   "outputs": [
    {
     "name": "stdout",
     "output_type": "stream",
     "text": [
      "Lambdas:  [0.  0.5 1. ]\n",
      "Integrands plot: \n"
     ]
    },
    {
     "data": {
      "image/png": "[encoded data removed]",
      "text/plain": [
       "<Figure size 432x288 with 1 Axes>"
      ]
     },
     "metadata": {
      "needs_background": "light"
     },
     "output_type": "display_data"
    },
    {
     "data": {
      "text/plain": [
       "(<Figure size 432x288 with 1 Axes>,\n",
       " <AxesSubplot:xlabel='Lambda', ylabel='dF/dLambda'>)"
      ]
     },
     "execution_count": 15,
     "metadata": {},
     "output_type": "execute_result"
    }
   ],
   "source": [
    "# Some inbuilt functions\n",
    "\n",
    "print('Lambdas: ', tild_job.get_lambdas())\n",
    "print('Integrands plot: ')\n",
    "tild_job.plot_tild_integrands()"
   ]
  },
  {
   "cell_type": "code",
   "execution_count": 16,
   "id": "2be3baca",
   "metadata": {
    "ExecuteTime": {
     "end_time": "2021-06-07T20:03:03.838387Z",
     "start_time": "2021-06-07T20:03:03.835690Z"
    }
   },
   "outputs": [
    {
     "name": "stdout",
     "output_type": "stream",
     "text": [
      "del_A_tild: -367.9228233938346 eV\n"
     ]
    }
   ],
   "source": [
    "# Helmholtz free energy between the quasi-harmonic and interacting system using TILD\n",
    "\n",
    "print('del_A_tild: {} eV'.format(del_A_tild))"
   ]
  },
  {
   "cell_type": "code",
   "execution_count": 17,
   "id": "f9078a2f",
   "metadata": {
    "ExecuteTime": {
     "end_time": "2021-06-07T20:05:26.848952Z",
     "start_time": "2021-06-07T20:05:26.846136Z"
    }
   },
   "outputs": [
    {
     "name": "stdout",
     "output_type": "stream",
     "text": [
      "A_qh: -0.9000303594806317 meV\n"
     ]
    }
   ],
   "source": [
    "# qh approximated analytical free energy\n",
    "\n",
    "print('A_qh: {} meV'.format(A_qh))"
   ]
  },
  {
   "cell_type": "code",
   "execution_count": 18,
   "id": "56a9f604",
   "metadata": {
    "ExecuteTime": {
     "end_time": "2021-06-07T20:19:56.333087Z",
     "start_time": "2021-06-07T20:19:56.330464Z"
    }
   },
   "outputs": [
    {
     "name": "stdout",
     "output_type": "stream",
     "text": [
      "A_tild_eam_per_atom: -3.415026423641808 eV/atom\n"
     ]
    }
   ],
   "source": [
    "# total free energy of the system at this temperature, including all parts\n",
    "\n",
    "A_tild_eam_per_atom = (A_qh + del_A_tild) / n_atoms\n",
    "print('A_tild_eam_per_atom: {} eV/atom'.format(A_tild_eam_per_atom))"
   ]
  },
  {
   "cell_type": "code",
   "execution_count": null,
   "id": "182ad221",
   "metadata": {},
   "outputs": [],
   "source": []
  }
 ],
 "metadata": {
  "kernelspec": {
   "display_name": "Python 3",
   "language": "python",
   "name": "python3"
  },
  "language_info": {
   "codemirror_mode": {
    "name": "ipython",
    "version": 3
   },
   "file_extension": ".py",
   "mimetype": "text/x-python",
   "name": "python",
   "nbconvert_exporter": "python",
   "pygments_lexer": "ipython3",
   "version": "3.8.8"
  }
 },
 "nbformat": 4,
 "nbformat_minor": 5
}
