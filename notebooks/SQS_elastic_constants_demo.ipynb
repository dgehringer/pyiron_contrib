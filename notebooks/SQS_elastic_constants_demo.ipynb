{
 "cells": [
  {
   "cell_type": "markdown",
   "metadata": {},
   "source": [
    "# SQS elastic constants\n",
    "\n",
    "This notebook demonstrates the functionality of job classes designed to calculate chemistry-dependent elastic data by averaging over one or more special-quasirandom structures."
   ]
  },
  {
   "cell_type": "code",
   "execution_count": 1,
   "metadata": {
    "ExecuteTime": {
     "end_time": "2020-10-16T07:55:40.761411Z",
     "start_time": "2020-10-16T07:55:34.720064Z"
    }
   },
   "outputs": [],
   "source": [
    "from pyiron import Project\n",
    "import pyiron_contrib\n",
    "import pyiron_mpie\n",
    "import numpy as np\n",
    "import matplotlib.pyplot as plt\n",
    "import seaborn as sns\n",
    "sns.set_context('talk')"
   ]
  },
  {
   "cell_type": "code",
   "execution_count": 3,
   "metadata": {
    "ExecuteTime": {
     "end_time": "2020-10-16T07:56:04.354681Z",
     "start_time": "2020-10-16T07:56:04.264723Z"
    }
   },
   "outputs": [],
   "source": [
    "pr = Project('scratch')\n",
    "# pr.remove_jobs_silently(recursive=True)\n",
    "# pr"
   ]
  },
  {
   "cell_type": "markdown",
   "metadata": {},
   "source": [
    "# Setup reference jobs\n",
    "\n",
    "The input to these SQS elastic job classes is quite minimal, rather run parameters are passed in in the form of reference jobs.\n",
    "\n",
    "Of special importance are the `SQSJob` type reference, which handles the generation of special quasirandom structures, and `ElasticMatrixJob`, which computes the elastic constants. Thankfully, these jobs already existed, so the development of the new SQS elastic jobs was just a matter of stringing them together. \n",
    "\n",
    "An advantage of this setup is that any new improvements to the functionality of these underlying jobs is included in the SQS elastic jobs without having to modify SQS elastic code specifically, since they appear simply as references. However, the flip side of the coin is that the functionality of these jobs was not exhaustively tested. Results are very reasonable for the FCC Al system tested, but keep your physicist hat on when running the code and ensure that your results are coming out sensibly.\n",
    "\n",
    "The final and most basic reference is the model which will interpret atomic positions to produce forces and energies. Here we'll use Lammps, but, if you have a lot of processor power lying around, there should be no barrier to using a quantum mechanical code like Vasp instead.\n",
    "\n",
    "Here, we'll scale a lot of the input parameters way back so the calculations run faster."
   ]
  },
  {
   "cell_type": "code",
   "execution_count": 4,
   "metadata": {
    "ExecuteTime": {
     "end_time": "2020-10-16T07:56:25.562717Z",
     "start_time": "2020-10-16T07:56:21.452047Z"
    }
   },
   "outputs": [],
   "source": [
    "lammps = pr.create_job(pr.job_type.Lammps, 'hr')\n",
    "lammps.structure = pr.create_ase_bulk('Al', cubic=True).repeat(5)\n",
    "lammps.structure[:3] = 'Mg'\n",
    "lammps.potential = 'Al_Mg_eam_fs'\n",
    "# lammps.calc_minimize(pressure=0)\n",
    "\n",
    "sqs = pr.create_job(pr.job_type.SQSJob, 'sr')\n",
    "sqs.input.iterations = 100\n",
    "sqs.input.weights = None\n",
    "sqs.input.n_output_structures = 2  \n",
    "# SQSJob Bug?: only 1 structure is being used if mole_factions are given,\n",
    "# but it seems to be OK if I rely on the structure composition directly\n",
    "\n",
    "elastic = pr.create_job(pr.job_type.ElasticMatrixJob, 'er')\n",
    "elastic.input['num_of_points'] = 3\n",
    "elastic.input['fit_order'] = 2\n",
    "elastic.input['eps_range'] = 0.005\n",
    "elastic.input['relax_atoms'] = False\n",
    "elastic.input['sqrt_eta'] = False\n",
    "# TODO: Get an updated version of ElasticMatrixJob that is public (rather than living\n",
    "#  on the private repo pyiron_mpie) and uses a more modern input format like InputList"
   ]
  },
  {
   "cell_type": "markdown",
   "metadata": {},
   "source": [
    "# Option 1: A single composition\n",
    "\n",
    "If we're interested in a single chemical composition, we can run the calculation for that directly and look at the statistical properties of the output."
   ]
  },
  {
   "cell_type": "code",
   "execution_count": 5,
   "metadata": {
    "ExecuteTime": {
     "end_time": "2020-10-16T08:02:15.239338Z",
     "start_time": "2020-10-16T07:56:32.331799Z"
    }
   },
   "outputs": [
    {
     "name": "stdout",
     "output_type": "stream",
     "text": [
      "The job single_ham_ref was saved and received the ID: 3\n",
      "The job single_sqs_ref was saved and received the ID: 4\n",
      "The job single_el_job was saved and received the ID: 5\n",
      "The job single was saved and received the ID: 6\n",
      "The job single_sqs was saved and received the ID: 7\n",
      "Threads used: 1\n",
      "The job single_min was saved and received the ID: 8\n",
      "The job struct_0 was saved and received the ID: 9\n",
      "The job struct_1 was saved and received the ID: 10\n",
      "The job single_elastic was saved and received the ID: 11\n",
      "The job struct_0 was saved and received the ID: 12\n",
      "The job s_e_0 was saved and received the ID: 13\n",
      "The job s_01_e_m0_00500 was saved and received the ID: 14\n",
      "The job s_01_e_0_00500 was saved and received the ID: 15\n",
      "The job s_25_e_m0_00500 was saved and received the ID: 16\n",
      "The job s_25_e_0_00500 was saved and received the ID: 17\n",
      "The job s_24_e_m0_00500 was saved and received the ID: 18\n",
      "The job s_24_e_0_00500 was saved and received the ID: 19\n",
      "The job s_28_e_m0_00500 was saved and received the ID: 20\n",
      "The job s_28_e_0_00500 was saved and received the ID: 21\n",
      "The job s_29_e_m0_00500 was saved and received the ID: 22\n",
      "The job s_29_e_0_00500 was saved and received the ID: 23\n",
      "The job s_27_e_m0_00500 was saved and received the ID: 24\n",
      "The job s_27_e_0_00500 was saved and received the ID: 25\n",
      "The job s_20_e_m0_00500 was saved and received the ID: 26\n",
      "The job s_20_e_0_00500 was saved and received the ID: 27\n",
      "The job s_12_e_m0_00500 was saved and received the ID: 28\n",
      "The job s_12_e_0_00500 was saved and received the ID: 29\n",
      "The job s_03_e_m0_00500 was saved and received the ID: 30\n",
      "The job s_03_e_0_00500 was saved and received the ID: 31\n",
      "The job s_04_e_m0_00500 was saved and received the ID: 32\n",
      "The job s_04_e_0_00500 was saved and received the ID: 33\n",
      "The job s_05_e_m0_00500 was saved and received the ID: 34\n",
      "The job s_05_e_0_00500 was saved and received the ID: 35\n",
      "The job s_06_e_m0_00500 was saved and received the ID: 36\n",
      "The job s_06_e_0_00500 was saved and received the ID: 37\n",
      "The job s_07_e_m0_00500 was saved and received the ID: 38\n",
      "The job s_07_e_0_00500 was saved and received the ID: 39\n",
      "The job struct_1 was saved and received the ID: 40\n",
      "The job s_e_0 was saved and received the ID: 41\n",
      "The job s_02_e_m0_00500 was saved and received the ID: 42\n",
      "The job s_02_e_0_00500 was saved and received the ID: 43\n",
      "The job s_03_e_m0_00500 was saved and received the ID: 44\n",
      "The job s_03_e_0_00500 was saved and received the ID: 45\n",
      "The job s_04_e_m0_00500 was saved and received the ID: 46\n",
      "The job s_04_e_0_00500 was saved and received the ID: 47\n",
      "The job s_05_e_m0_00500 was saved and received the ID: 48\n",
      "The job s_05_e_0_00500 was saved and received the ID: 49\n",
      "The job s_06_e_m0_00500 was saved and received the ID: 50\n",
      "The job s_06_e_0_00500 was saved and received the ID: 51\n",
      "The job s_07_e_m0_00500 was saved and received the ID: 52\n",
      "The job s_07_e_0_00500 was saved and received the ID: 53\n",
      "The job s_08_e_m0_00500 was saved and received the ID: 54\n",
      "The job s_08_e_0_00500 was saved and received the ID: 55\n",
      "The job s_09_e_m0_00500 was saved and received the ID: 56\n",
      "The job s_09_e_0_00500 was saved and received the ID: 57\n",
      "The job s_10_e_m0_00500 was saved and received the ID: 58\n",
      "The job s_10_e_0_00500 was saved and received the ID: 59\n",
      "The job s_11_e_m0_00500 was saved and received the ID: 60\n",
      "The job s_11_e_0_00500 was saved and received the ID: 61\n",
      "The job s_12_e_m0_00500 was saved and received the ID: 62\n",
      "The job s_12_e_0_00500 was saved and received the ID: 63\n",
      "The job s_13_e_m0_00500 was saved and received the ID: 64\n",
      "The job s_13_e_0_00500 was saved and received the ID: 65\n",
      "The job s_14_e_m0_00500 was saved and received the ID: 66\n",
      "The job s_14_e_0_00500 was saved and received the ID: 67\n",
      "The job s_15_e_m0_00500 was saved and received the ID: 68\n",
      "The job s_15_e_0_00500 was saved and received the ID: 69\n",
      "The job s_16_e_m0_00500 was saved and received the ID: 70\n",
      "The job s_16_e_0_00500 was saved and received the ID: 71\n",
      "The job s_17_e_m0_00500 was saved and received the ID: 72\n",
      "The job s_17_e_0_00500 was saved and received the ID: 73\n",
      "The job s_18_e_m0_00500 was saved and received the ID: 74\n",
      "The job s_18_e_0_00500 was saved and received the ID: 75\n",
      "The job s_19_e_m0_00500 was saved and received the ID: 76\n",
      "The job s_19_e_0_00500 was saved and received the ID: 77\n",
      "The job s_20_e_m0_00500 was saved and received the ID: 78\n",
      "The job s_20_e_0_00500 was saved and received the ID: 79\n",
      "The job s_21_e_m0_00500 was saved and received the ID: 80\n",
      "The job s_21_e_0_00500 was saved and received the ID: 81\n",
      "The job s_22_e_m0_00500 was saved and received the ID: 82\n",
      "The job s_22_e_0_00500 was saved and received the ID: 83\n"
     ]
    }
   ],
   "source": [
    "# sqs.input.mole_fractions = {'Al': 0.9, 'Mg': 0.1}  \n",
    "# ^^ Molar fractions are necessary if the structure isn't already at the right composition\n",
    "\n",
    "sqs_elastic = pr.create_job(pr.job_type.SQSElasticConstants, 'single')\n",
    "sqs_elastic.ref_ham = lammps\n",
    "sqs_elastic.ref_sqs = sqs\n",
    "sqs_elastic.ref_elastic = elastic\n",
    "sqs_elastic.run()"
   ]
  },
  {
   "cell_type": "code",
   "execution_count": 19,
   "metadata": {
    "ExecuteTime": {
     "end_time": "2020-10-16T09:50:16.256837Z",
     "start_time": "2020-10-16T09:50:16.239897Z"
    }
   },
   "outputs": [
    {
     "data": {
      "text/plain": [
       "array([[9.17672847e-02, 8.08648242e-03, 2.07140712e-02, 3.84220548e-03,\n",
       "        3.36861848e-02, 1.99267502e-02],\n",
       "       [8.08648242e-03, 4.68169635e-03, 1.65052849e+01, 3.32070452e-02,\n",
       "        4.19181901e-03, 4.61873116e-02],\n",
       "       [2.07140712e-02, 1.65052849e+01, 7.01556049e-04, 3.30240255e-02,\n",
       "        3.37084149e-02, 4.97610200e-02],\n",
       "       [3.84220548e-03, 3.32070452e-02, 3.30240255e-02, 9.49023087e-04,\n",
       "        7.25392761e-04, 9.11309846e-03],\n",
       "       [3.36861848e-02, 4.19181901e-03, 3.37084149e-02, 7.25392761e-04,\n",
       "        2.10281287e-03, 8.88339908e-03],\n",
       "       [1.99267502e-02, 4.61873116e-02, 4.97610200e-02, 9.11309846e-03,\n",
       "        8.88339908e-03, 4.42377734e-04]])"
      ]
     },
     "execution_count": 19,
     "metadata": {},
     "output_type": "execute_result"
    }
   ],
   "source": [
    "sqs_elastic.output.elastic_matrices.sem"
   ]
  },
  {
   "cell_type": "code",
   "execution_count": 35,
   "metadata": {
    "ExecuteTime": {
     "end_time": "2020-10-16T10:42:37.470009Z",
     "start_time": "2020-10-16T10:42:34.110738Z"
    }
   },
   "outputs": [],
   "source": [
    "sqs_elastic_loaded = pr.load(sqs_elastic.job_name)"
   ]
  },
  {
   "cell_type": "code",
   "execution_count": 36,
   "metadata": {
    "ExecuteTime": {
     "end_time": "2020-10-16T10:42:37.694003Z",
     "start_time": "2020-10-16T10:42:37.543154Z"
    }
   },
   "outputs": [
    {
     "data": {
      "text/plain": [
       "array([[ 1.10442578e+02,  6.29871697e+01,  6.30088695e+01,\n",
       "         7.68441095e-03,  6.73723696e-02,  1.01832837e-01],\n",
       "       [ 6.29871697e+01,  1.10227012e+02,  9.59789912e+01,\n",
       "         6.64140905e-02,  8.38363803e-03,  5.17004040e-02],\n",
       "       [ 6.30088695e+01,  9.59789912e+01,  1.10210579e+02,\n",
       "         6.60480511e-02,  6.74168299e-02, -8.37842978e-02],\n",
       "       [ 7.68441095e-03,  6.64140905e-02,  6.60480511e-02,\n",
       "         3.30522086e+01,  3.68753347e-02,  1.82261969e-02],\n",
       "       [ 6.73723696e-02,  8.38363803e-03,  6.74168299e-02,\n",
       "         3.68753347e-02,  3.30541235e+01,  1.77667982e-02],\n",
       "       [ 1.01832837e-01,  5.17004040e-02, -8.37842978e-02,\n",
       "         1.82261969e-02,  1.77667982e-02,  3.30540069e+01]])"
      ]
     },
     "execution_count": 36,
     "metadata": {},
     "output_type": "execute_result"
    }
   ],
   "source": [
    "#Can look at statistics over the SQS structures: .array, .mean, .std, .sem\n",
    "sqs_elastic_loaded.output.elastic_matrices.mean  "
   ]
  },
  {
   "cell_type": "code",
   "execution_count": 37,
   "metadata": {
    "ExecuteTime": {
     "end_time": "2020-10-16T10:42:37.949127Z",
     "start_time": "2020-10-16T10:42:37.792728Z"
    }
   },
   "outputs": [
    {
     "name": "stderr",
     "output_type": "stream",
     "text": [
      "/Users/huber/Liam/pyiron/pyiron_repos/pyiron_base/pyiron_base/generic/inputlist.py:287: VisibleDeprecationWarning: Creating an ndarray from ragged nested sequences (which is a list-or-tuple of lists-or-tuples-or ndarrays with different lengths or shapes) is deprecated. If you meant to do this, you must specify 'dtype=object' when creating the ndarray\n",
      "  return np.array(self._store)\n"
     ]
    },
    {
     "data": {
      "text/plain": [
       "[array([[-3.18759172e-07,  1.61667101e-04, -4.02343767e-17],\n",
       "       [ 1.61667101e-04,  1.16137737e-08, -9.23110716e-16],\n",
       "       [-4.02343767e-17, -9.23110716e-16,  2.84969308e-09]])\n",
       " array([[ 4.87181378e-07,  4.56519745e-04,  2.80804191e-04],\n",
       "       [ 4.56519745e-04, -2.02958980e-07, -4.19985640e-04],\n",
       "       [ 2.80804191e-04, -4.19985640e-04, -6.96217218e-07]])\n",
       " None None None]"
      ]
     },
     "execution_count": 37,
     "metadata": {},
     "output_type": "execute_result"
    }
   ],
   "source": [
    "# TODO: Loading somehow has a bug for the pressures?\n",
    "sqs_elastic_loaded.output.residual_pressures"
   ]
  },
  {
   "cell_type": "markdown",
   "metadata": {},
   "source": [
    "# Option 2: Scan various compositions\n",
    "\n",
    "Alternatively, we might want to look for chemical trends across multiple different compositions. This is also possible. "
   ]
  },
  {
   "cell_type": "code",
   "execution_count": 8,
   "metadata": {
    "ExecuteTime": {
     "end_time": "2020-10-16T08:10:04.019703Z",
     "start_time": "2020-10-16T08:02:39.894864Z"
    }
   },
   "outputs": [
    {
     "name": "stdout",
     "output_type": "stream",
     "text": [
      "The job se_ham_ref was saved and received the ID: 84\n",
      "The job se_sqs_ref was saved and received the ID: 85\n",
      "The job se_el_job was saved and received the ID: 86\n",
      "The job scan was saved and received the ID: 87\n",
      "The job Al10_Mg00_ham_ref was saved and received the ID: 88\n",
      "The job Al10_Mg00_sqs_ref was saved and received the ID: 89\n",
      "The job Al10_Mg00_el_job was saved and received the ID: 90\n",
      "The job Al10_Mg00 was saved and received the ID: 91\n",
      "The job Al10_Mg00_sqs was saved and received the ID: 92\n",
      "Threads used: 1\n",
      "The job Al10_Mg00_min was saved and received the ID: 93\n",
      "The job struct_0 was saved and received the ID: 94\n",
      "The job Al10_Mg00_elastic was saved and received the ID: 95\n",
      "The job struct_0 was saved and received the ID: 96\n",
      "The job s_e_0 was saved and received the ID: 97\n",
      "The job s_01_e_m0_00500 was saved and received the ID: 98\n",
      "The job s_01_e_0_00500 was saved and received the ID: 99\n",
      "The job s_08_e_m0_00500 was saved and received the ID: 100\n",
      "The job s_08_e_0_00500 was saved and received the ID: 101\n",
      "The job s_23_e_m0_00500 was saved and received the ID: 102\n",
      "The job s_23_e_0_00500 was saved and received the ID: 103\n",
      "The job Al10_Mg00_ham_ref was saved and received the ID: 104\n",
      "The job Al10_Mg00_sqs_ref was saved and received the ID: 105\n",
      "The job Al10_Mg00_el_job was saved and received the ID: 106\n",
      "The job Al0975_Mg0025_ham_ref was saved and received the ID: 107\n",
      "The job Al0975_Mg0025_sqs_ref was saved and received the ID: 108\n",
      "The job Al0975_Mg0025_el_job was saved and received the ID: 109\n",
      "The job Al0975_Mg0025 was saved and received the ID: 110\n",
      "The job Al0975_Mg0025_sqs was saved and received the ID: 111\n",
      "Mole fractions were corrected to: {'Al': 0.976, 'Mg': 0.024}\n",
      "Threads used: 1\n",
      "The job Al0975_Mg0025_min was saved and received the ID: 112\n",
      "The job struct_0 was saved and received the ID: 113\n",
      "The job Al0975_Mg0025_elastic was saved and received the ID: 114\n",
      "The job struct_0 was saved and received the ID: 115\n",
      "The job s_e_0 was saved and received the ID: 116\n",
      "The job s_02_e_m0_00500 was saved and received the ID: 117\n",
      "The job s_02_e_0_00500 was saved and received the ID: 118\n",
      "The job s_03_e_m0_00500 was saved and received the ID: 119\n",
      "The job s_03_e_0_00500 was saved and received the ID: 120\n",
      "The job s_04_e_m0_00500 was saved and received the ID: 121\n",
      "The job s_04_e_0_00500 was saved and received the ID: 122\n",
      "The job s_05_e_m0_00500 was saved and received the ID: 123\n",
      "The job s_05_e_0_00500 was saved and received the ID: 124\n",
      "The job s_06_e_m0_00500 was saved and received the ID: 125\n",
      "The job s_06_e_0_00500 was saved and received the ID: 126\n",
      "The job s_07_e_m0_00500 was saved and received the ID: 127\n",
      "The job s_07_e_0_00500 was saved and received the ID: 128\n",
      "The job s_08_e_m0_00500 was saved and received the ID: 129\n",
      "The job s_08_e_0_00500 was saved and received the ID: 130\n",
      "The job s_09_e_m0_00500 was saved and received the ID: 131\n",
      "The job s_09_e_0_00500 was saved and received the ID: 132\n",
      "The job s_10_e_m0_00500 was saved and received the ID: 133\n",
      "The job s_10_e_0_00500 was saved and received the ID: 134\n",
      "The job s_11_e_m0_00500 was saved and received the ID: 135\n",
      "The job s_11_e_0_00500 was saved and received the ID: 136\n",
      "The job s_12_e_m0_00500 was saved and received the ID: 137\n",
      "The job s_12_e_0_00500 was saved and received the ID: 138\n",
      "The job s_13_e_m0_00500 was saved and received the ID: 139\n",
      "The job s_13_e_0_00500 was saved and received the ID: 140\n",
      "The job s_14_e_m0_00500 was saved and received the ID: 141\n",
      "The job s_14_e_0_00500 was saved and received the ID: 142\n",
      "The job s_15_e_m0_00500 was saved and received the ID: 143\n",
      "The job s_15_e_0_00500 was saved and received the ID: 144\n",
      "The job s_16_e_m0_00500 was saved and received the ID: 145\n",
      "The job s_16_e_0_00500 was saved and received the ID: 146\n",
      "The job s_17_e_m0_00500 was saved and received the ID: 147\n",
      "The job s_17_e_0_00500 was saved and received the ID: 148\n",
      "The job s_18_e_m0_00500 was saved and received the ID: 149\n",
      "The job s_18_e_0_00500 was saved and received the ID: 150\n",
      "The job s_19_e_m0_00500 was saved and received the ID: 151\n",
      "The job s_19_e_0_00500 was saved and received the ID: 152\n",
      "The job s_20_e_m0_00500 was saved and received the ID: 153\n",
      "The job s_20_e_0_00500 was saved and received the ID: 154\n",
      "The job s_21_e_m0_00500 was saved and received the ID: 155\n",
      "The job s_21_e_0_00500 was saved and received the ID: 156\n",
      "The job s_22_e_m0_00500 was saved and received the ID: 157\n",
      "The job s_22_e_0_00500 was saved and received the ID: 158\n",
      "The job Al0975_Mg0025_ham_ref was saved and received the ID: 159\n",
      "The job Al0975_Mg0025_sqs_ref was saved and received the ID: 160\n",
      "The job Al0975_Mg0025_el_job was saved and received the ID: 161\n",
      "The job Al095_Mg005_ham_ref was saved and received the ID: 162\n",
      "The job Al095_Mg005_sqs_ref was saved and received the ID: 163\n",
      "The job Al095_Mg005_el_job was saved and received the ID: 164\n",
      "The job Al095_Mg005 was saved and received the ID: 165\n",
      "The job Al095_Mg005_sqs was saved and received the ID: 166\n",
      "Threads used: 1\n",
      "The job Al095_Mg005_min was saved and received the ID: 167\n",
      "The job struct_0 was saved and received the ID: 168\n",
      "The job Al095_Mg005_elastic was saved and received the ID: 169\n",
      "The job struct_0 was saved and received the ID: 170\n",
      "The job s_e_0 was saved and received the ID: 171\n",
      "The job s_02_e_m0_00500 was saved and received the ID: 172\n",
      "The job s_02_e_0_00500 was saved and received the ID: 173\n",
      "The job s_03_e_m0_00500 was saved and received the ID: 174\n",
      "The job s_03_e_0_00500 was saved and received the ID: 175\n",
      "The job s_04_e_m0_00500 was saved and received the ID: 176\n",
      "The job s_04_e_0_00500 was saved and received the ID: 177\n",
      "The job s_05_e_m0_00500 was saved and received the ID: 178\n",
      "The job s_05_e_0_00500 was saved and received the ID: 179\n",
      "The job s_06_e_m0_00500 was saved and received the ID: 180\n",
      "The job s_06_e_0_00500 was saved and received the ID: 181\n",
      "The job s_07_e_m0_00500 was saved and received the ID: 182\n",
      "The job s_07_e_0_00500 was saved and received the ID: 183\n",
      "The job s_08_e_m0_00500 was saved and received the ID: 184\n",
      "The job s_08_e_0_00500 was saved and received the ID: 185\n",
      "The job s_09_e_m0_00500 was saved and received the ID: 186\n",
      "The job s_09_e_0_00500 was saved and received the ID: 187\n",
      "The job s_10_e_m0_00500 was saved and received the ID: 188\n",
      "The job s_10_e_0_00500 was saved and received the ID: 189\n",
      "The job s_11_e_m0_00500 was saved and received the ID: 190\n",
      "The job s_11_e_0_00500 was saved and received the ID: 191\n",
      "The job s_12_e_m0_00500 was saved and received the ID: 192\n",
      "The job s_12_e_0_00500 was saved and received the ID: 193\n",
      "The job s_13_e_m0_00500 was saved and received the ID: 194\n",
      "The job s_13_e_0_00500 was saved and received the ID: 195\n",
      "The job s_14_e_m0_00500 was saved and received the ID: 196\n",
      "The job s_14_e_0_00500 was saved and received the ID: 197\n",
      "The job s_15_e_m0_00500 was saved and received the ID: 198\n",
      "The job s_15_e_0_00500 was saved and received the ID: 199\n",
      "The job s_16_e_m0_00500 was saved and received the ID: 200\n",
      "The job s_16_e_0_00500 was saved and received the ID: 201\n",
      "The job s_17_e_m0_00500 was saved and received the ID: 202\n",
      "The job s_17_e_0_00500 was saved and received the ID: 203\n",
      "The job s_18_e_m0_00500 was saved and received the ID: 204\n",
      "The job s_18_e_0_00500 was saved and received the ID: 205\n",
      "The job s_19_e_m0_00500 was saved and received the ID: 206\n",
      "The job s_19_e_0_00500 was saved and received the ID: 207\n",
      "The job s_20_e_m0_00500 was saved and received the ID: 208\n",
      "The job s_20_e_0_00500 was saved and received the ID: 209\n",
      "The job s_21_e_m0_00500 was saved and received the ID: 210\n",
      "The job s_21_e_0_00500 was saved and received the ID: 211\n",
      "The job s_22_e_m0_00500 was saved and received the ID: 212\n",
      "The job s_22_e_0_00500 was saved and received the ID: 213\n",
      "The job Al095_Mg005_ham_ref was saved and received the ID: 214\n",
      "The job Al095_Mg005_sqs_ref was saved and received the ID: 215\n",
      "The job Al095_Mg005_el_job was saved and received the ID: 216\n"
     ]
    },
    {
     "name": "stderr",
     "output_type": "stream",
     "text": [
      "2020-10-16 10:09:51,212 - pyiron_log - WARNING - Job 'Al10_Mg00_ham_ref' does not exist and cannot be loaded\n",
      "2020-10-16 10:09:51,233 - pyiron_log - WARNING - Job 'Al10_Mg00_sqs_ref' does not exist and cannot be loaded\n",
      "2020-10-16 10:09:51,249 - pyiron_log - WARNING - Job 'Al10_Mg00_el_job' does not exist and cannot be loaded\n",
      "2020-10-16 10:09:51,625 - pyiron_log - WARNING - Job 'Al0975_Mg0025_ham_ref' does not exist and cannot be loaded\n",
      "2020-10-16 10:09:51,651 - pyiron_log - WARNING - Job 'Al0975_Mg0025_sqs_ref' does not exist and cannot be loaded\n",
      "2020-10-16 10:09:51,719 - pyiron_log - WARNING - Job 'Al0975_Mg0025_el_job' does not exist and cannot be loaded\n",
      "2020-10-16 10:09:52,102 - pyiron_log - WARNING - Job 'Al095_Mg005_ham_ref' does not exist and cannot be loaded\n",
      "2020-10-16 10:09:52,116 - pyiron_log - WARNING - Job 'Al095_Mg005_sqs_ref' does not exist and cannot be loaded\n",
      "2020-10-16 10:09:52,172 - pyiron_log - WARNING - Job 'Al095_Mg005_el_job' does not exist and cannot be loaded\n",
      "2020-10-16 10:09:53,005 - pyiron_log - WARNING - Job 'Al10_Mg00_ham_ref' does not exist and cannot be loaded\n",
      "2020-10-16 10:09:53,018 - pyiron_log - WARNING - Job 'Al10_Mg00_sqs_ref' does not exist and cannot be loaded\n",
      "2020-10-16 10:09:53,053 - pyiron_log - WARNING - Job 'Al10_Mg00_el_job' does not exist and cannot be loaded\n",
      "2020-10-16 10:09:53,649 - pyiron_log - WARNING - Job 'Al0975_Mg0025_ham_ref' does not exist and cannot be loaded\n",
      "2020-10-16 10:09:53,681 - pyiron_log - WARNING - Job 'Al0975_Mg0025_sqs_ref' does not exist and cannot be loaded\n",
      "2020-10-16 10:09:53,739 - pyiron_log - WARNING - Job 'Al0975_Mg0025_el_job' does not exist and cannot be loaded\n",
      "2020-10-16 10:09:54,171 - pyiron_log - WARNING - Job 'Al095_Mg005_ham_ref' does not exist and cannot be loaded\n",
      "2020-10-16 10:09:54,184 - pyiron_log - WARNING - Job 'Al095_Mg005_sqs_ref' does not exist and cannot be loaded\n",
      "2020-10-16 10:09:54,209 - pyiron_log - WARNING - Job 'Al095_Mg005_el_job' does not exist and cannot be loaded\n",
      "2020-10-16 10:09:54,923 - pyiron_log - WARNING - Job 'Al10_Mg00_ham_ref' does not exist and cannot be loaded\n",
      "2020-10-16 10:09:54,958 - pyiron_log - WARNING - Job 'Al10_Mg00_sqs_ref' does not exist and cannot be loaded\n",
      "2020-10-16 10:09:54,983 - pyiron_log - WARNING - Job 'Al10_Mg00_el_job' does not exist and cannot be loaded\n",
      "2020-10-16 10:09:55,458 - pyiron_log - WARNING - Job 'Al0975_Mg0025_ham_ref' does not exist and cannot be loaded\n",
      "2020-10-16 10:09:55,473 - pyiron_log - WARNING - Job 'Al0975_Mg0025_sqs_ref' does not exist and cannot be loaded\n",
      "2020-10-16 10:09:55,509 - pyiron_log - WARNING - Job 'Al0975_Mg0025_el_job' does not exist and cannot be loaded\n",
      "2020-10-16 10:09:55,825 - pyiron_log - WARNING - Job 'Al095_Mg005_ham_ref' does not exist and cannot be loaded\n",
      "2020-10-16 10:09:55,839 - pyiron_log - WARNING - Job 'Al095_Mg005_sqs_ref' does not exist and cannot be loaded\n",
      "2020-10-16 10:09:55,853 - pyiron_log - WARNING - Job 'Al095_Mg005_el_job' does not exist and cannot be loaded\n",
      "2020-10-16 10:09:56,328 - pyiron_log - WARNING - Job 'Al10_Mg00_ham_ref' does not exist and cannot be loaded\n",
      "2020-10-16 10:09:56,345 - pyiron_log - WARNING - Job 'Al10_Mg00_sqs_ref' does not exist and cannot be loaded\n",
      "2020-10-16 10:09:56,375 - pyiron_log - WARNING - Job 'Al10_Mg00_el_job' does not exist and cannot be loaded\n",
      "2020-10-16 10:09:56,687 - pyiron_log - WARNING - Job 'Al0975_Mg0025_ham_ref' does not exist and cannot be loaded\n",
      "2020-10-16 10:09:56,707 - pyiron_log - WARNING - Job 'Al0975_Mg0025_sqs_ref' does not exist and cannot be loaded\n",
      "2020-10-16 10:09:56,719 - pyiron_log - WARNING - Job 'Al0975_Mg0025_el_job' does not exist and cannot be loaded\n",
      "2020-10-16 10:09:57,047 - pyiron_log - WARNING - Job 'Al095_Mg005_ham_ref' does not exist and cannot be loaded\n",
      "2020-10-16 10:09:57,057 - pyiron_log - WARNING - Job 'Al095_Mg005_sqs_ref' does not exist and cannot be loaded\n",
      "2020-10-16 10:09:57,091 - pyiron_log - WARNING - Job 'Al095_Mg005_el_job' does not exist and cannot be loaded\n",
      "2020-10-16 10:09:57,679 - pyiron_log - WARNING - Job 'Al10_Mg00_ham_ref' does not exist and cannot be loaded\n",
      "2020-10-16 10:09:57,708 - pyiron_log - WARNING - Job 'Al10_Mg00_sqs_ref' does not exist and cannot be loaded\n",
      "2020-10-16 10:09:57,734 - pyiron_log - WARNING - Job 'Al10_Mg00_el_job' does not exist and cannot be loaded\n",
      "2020-10-16 10:09:58,069 - pyiron_log - WARNING - Job 'Al0975_Mg0025_ham_ref' does not exist and cannot be loaded\n",
      "2020-10-16 10:09:58,086 - pyiron_log - WARNING - Job 'Al0975_Mg0025_sqs_ref' does not exist and cannot be loaded\n",
      "2020-10-16 10:09:58,117 - pyiron_log - WARNING - Job 'Al0975_Mg0025_el_job' does not exist and cannot be loaded\n",
      "2020-10-16 10:09:58,488 - pyiron_log - WARNING - Job 'Al095_Mg005_ham_ref' does not exist and cannot be loaded\n",
      "2020-10-16 10:09:58,520 - pyiron_log - WARNING - Job 'Al095_Mg005_sqs_ref' does not exist and cannot be loaded\n",
      "2020-10-16 10:09:58,545 - pyiron_log - WARNING - Job 'Al095_Mg005_el_job' does not exist and cannot be loaded\n",
      "2020-10-16 10:09:59,177 - pyiron_log - WARNING - Job 'Al10_Mg00_ham_ref' does not exist and cannot be loaded\n",
      "2020-10-16 10:09:59,191 - pyiron_log - WARNING - Job 'Al10_Mg00_sqs_ref' does not exist and cannot be loaded\n",
      "2020-10-16 10:09:59,210 - pyiron_log - WARNING - Job 'Al10_Mg00_el_job' does not exist and cannot be loaded\n",
      "2020-10-16 10:09:59,522 - pyiron_log - WARNING - Job 'Al0975_Mg0025_ham_ref' does not exist and cannot be loaded\n",
      "2020-10-16 10:09:59,545 - pyiron_log - WARNING - Job 'Al0975_Mg0025_sqs_ref' does not exist and cannot be loaded\n",
      "2020-10-16 10:09:59,560 - pyiron_log - WARNING - Job 'Al0975_Mg0025_el_job' does not exist and cannot be loaded\n",
      "2020-10-16 10:10:00,065 - pyiron_log - WARNING - Job 'Al095_Mg005_ham_ref' does not exist and cannot be loaded\n",
      "2020-10-16 10:10:00,088 - pyiron_log - WARNING - Job 'Al095_Mg005_sqs_ref' does not exist and cannot be loaded\n",
      "2020-10-16 10:10:00,105 - pyiron_log - WARNING - Job 'Al095_Mg005_el_job' does not exist and cannot be loaded\n",
      "2020-10-16 10:10:00,690 - pyiron_log - WARNING - Job 'Al10_Mg00_ham_ref' does not exist and cannot be loaded\n",
      "2020-10-16 10:10:00,710 - pyiron_log - WARNING - Job 'Al10_Mg00_sqs_ref' does not exist and cannot be loaded\n",
      "2020-10-16 10:10:00,738 - pyiron_log - WARNING - Job 'Al10_Mg00_el_job' does not exist and cannot be loaded\n",
      "2020-10-16 10:10:01,416 - pyiron_log - WARNING - Job 'Al0975_Mg0025_ham_ref' does not exist and cannot be loaded\n",
      "2020-10-16 10:10:01,430 - pyiron_log - WARNING - Job 'Al0975_Mg0025_sqs_ref' does not exist and cannot be loaded\n",
      "2020-10-16 10:10:01,457 - pyiron_log - WARNING - Job 'Al0975_Mg0025_el_job' does not exist and cannot be loaded\n",
      "2020-10-16 10:10:01,819 - pyiron_log - WARNING - Job 'Al095_Mg005_ham_ref' does not exist and cannot be loaded\n",
      "2020-10-16 10:10:01,829 - pyiron_log - WARNING - Job 'Al095_Mg005_sqs_ref' does not exist and cannot be loaded\n",
      "2020-10-16 10:10:01,845 - pyiron_log - WARNING - Job 'Al095_Mg005_el_job' does not exist and cannot be loaded\n"
     ]
    }
   ],
   "source": [
    "sqs_elastic_ref = pr.create_job(pr.job_type.SQSElasticConstants, 'se')\n",
    "sqs_elastic_ref.ref_ham = lammps\n",
    "sqs_elastic_ref.ref_sqs = sqs\n",
    "sqs_elastic_ref.ref_elastic = elastic\n",
    "\n",
    "job = sqs_elastic_ref.create_job(pr.job_type.SQSElasticConstantsList, 'scan')\n",
    "job.input.compositions = [\n",
    "    {'Al': 1., 'Mg': 0.},\n",
    "    {'Al': 0.975, 'Mg': 0.025},\n",
    "    {'Al': 0.95, 'Mg': 0.05}\n",
    "]\n",
    "job.run()\n",
    "# TODO: Test submitting a job on the server."
   ]
  },
  {
   "cell_type": "code",
   "execution_count": 20,
   "metadata": {
    "ExecuteTime": {
     "end_time": "2020-10-16T09:51:18.330980Z",
     "start_time": "2020-10-16T09:51:18.287673Z"
    }
   },
   "outputs": [
    {
     "data": {
      "text/plain": [
       "[[[[ 1.10150925e+02  6.17055177e+01  6.17055177e+01  0.00000000e+00\n",
       "     0.00000000e+00  0.00000000e+00]\n",
       "   [ 6.17055177e+01  1.10150925e+02  6.17055177e+01  0.00000000e+00\n",
       "     0.00000000e+00  0.00000000e+00]\n",
       "   [ 6.17055177e+01  6.17055177e+01  1.10150925e+02  0.00000000e+00\n",
       "     0.00000000e+00  0.00000000e+00]\n",
       "   [ 0.00000000e+00  0.00000000e+00  0.00000000e+00  3.27021072e+01\n",
       "     0.00000000e+00  0.00000000e+00]\n",
       "   [ 0.00000000e+00  0.00000000e+00  0.00000000e+00  0.00000000e+00\n",
       "     3.27021072e+01  0.00000000e+00]\n",
       "   [ 0.00000000e+00  0.00000000e+00  0.00000000e+00  0.00000000e+00\n",
       "     0.00000000e+00  3.27021072e+01]]]\n",
       "\n",
       "\n",
       " [[[ 1.10145354e+02  6.67336688e+01  6.68331975e+01 -3.26289097e-02\n",
       "     5.55636637e-02  1.12648634e-01]\n",
       "   [ 6.67336688e+01  1.10400668e+02  6.69305034e+01  5.40205140e-02\n",
       "    -2.87805731e-02  1.52497690e-01]\n",
       "   [ 6.68331975e+01  6.69305034e+01  1.10737764e+02  5.63439069e-02\n",
       "     9.23823102e-02  2.32056762e-03]\n",
       "   [-3.26289097e-02  5.40205140e-02  5.63439069e-02  3.43901659e+01\n",
       "     4.90902834e-03 -8.00975611e-03]\n",
       "   [ 5.55636637e-02 -2.87805731e-02  9.23823102e-02  4.90902834e-03\n",
       "     3.42979017e+01 -1.39950980e-02]\n",
       "   [ 1.12648634e-01  1.52497690e-01  2.32056762e-03 -8.00975611e-03\n",
       "    -1.39950980e-02  3.42172172e+01]]]\n",
       "\n",
       "\n",
       " [[[ 1.11067378e+02  7.16533384e+01  7.20167746e+01 -2.88412028e-02\n",
       "     3.87461582e-02  2.59034297e-01]\n",
       "   [ 7.16533384e+01  1.10359969e+02  7.19330830e+01  3.88160576e-02\n",
       "     4.28105585e-02  2.85369148e-01]\n",
       "   [ 7.20167746e+01  7.19330830e+01  1.13724300e+02  1.19893593e-01\n",
       "     2.43992670e-01  4.04515687e-02]\n",
       "   [-2.88412028e-02  3.88160576e-02  1.19893593e-01  3.62592806e+01\n",
       "     5.34839836e-02  5.33987020e-02]\n",
       "   [ 3.87461582e-02  4.28105585e-02  2.43992670e-01  5.34839836e-02\n",
       "     3.63331954e+01 -1.38821068e-02]\n",
       "   [ 2.59034297e-01  2.85369148e-01  4.04515687e-02  5.33987020e-02\n",
       "    -1.38821068e-02  3.59590678e+01]]]]"
      ]
     },
     "execution_count": 20,
     "metadata": {},
     "output_type": "execute_result"
    }
   ],
   "source": [
    "job.output.elastic_matrices"
   ]
  },
  {
   "cell_type": "markdown",
   "metadata": {},
   "source": [
    "Since these jobs might be expensive, it is also important that we can load the job from HDF an look at output later. For instance, below we use convenient helper methods to look at the trends and interpolate a value that was not calculated."
   ]
  },
  {
   "cell_type": "code",
   "execution_count": 21,
   "metadata": {
    "ExecuteTime": {
     "end_time": "2020-10-16T09:51:30.748716Z",
     "start_time": "2020-10-16T09:51:29.950484Z"
    }
   },
   "outputs": [],
   "source": [
    "loaded = pr.load(job.job_name)"
   ]
  },
  {
   "cell_type": "code",
   "execution_count": 24,
   "metadata": {
    "ExecuteTime": {
     "end_time": "2020-10-16T09:51:52.801994Z",
     "start_time": "2020-10-16T09:51:48.758990Z"
    }
   },
   "outputs": [
    {
     "data": {
      "text/plain": [
       "<AxesSubplot:xlabel='Al Atomic fraction', ylabel='Elastic constants (GPa)'>"
      ]
     },
     "execution_count": 24,
     "metadata": {},
     "output_type": "execute_result"
    },
    {
     "data": {
      "image/png": "[encoded data removed]",
      "text/plain": [
       "<Figure size 432x288 with 1 Axes>"
      ]
     },
     "metadata": {},
     "output_type": "display_data"
    }
   ],
   "source": [
    "loaded.plot('Al')"
   ]
  },
  {
   "cell_type": "code",
   "execution_count": 28,
   "metadata": {
    "ExecuteTime": {
     "end_time": "2020-10-16T09:52:52.691109Z",
     "start_time": "2020-10-16T09:52:52.282286Z"
    }
   },
   "outputs": [
    {
     "data": {
      "text/plain": [
       "68.56275894929516"
      ]
     },
     "execution_count": 28,
     "metadata": {},
     "output_type": "execute_result"
    }
   ],
   "source": [
    "loaded.get_C12_poly('Mg')(0.033333)"
   ]
  },
  {
   "cell_type": "code",
   "execution_count": null,
   "metadata": {},
   "outputs": [],
   "source": []
  }
 ],
 "metadata": {
  "kernelspec": {
   "display_name": "Python [conda env:.conda-pyiron_37] *",
   "language": "python",
   "name": "conda-env-.conda-pyiron_37-py"
  },
  "language_info": {
   "codemirror_mode": {
    "name": "ipython",
    "version": 3
   },
   "file_extension": ".py",
   "mimetype": "text/x-python",
   "name": "python",
   "nbconvert_exporter": "python",
   "pygments_lexer": "ipython3",
   "version": "3.7.3"
  },
  "toc": {
   "base_numbering": 1,
   "nav_menu": {},
   "number_sections": true,
   "sideBar": true,
   "skip_h1_title": false,
   "title_cell": "Table of Contents",
   "title_sidebar": "Contents",
   "toc_cell": false,
   "toc_position": {},
   "toc_section_display": true,
   "toc_window_display": false
  }
 },
 "nbformat": 4,
 "nbformat_minor": 4
}
