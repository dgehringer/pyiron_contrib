{
 "cells": [
  {
   "cell_type": "markdown",
   "id": "d2b12786",
   "metadata": {},
   "source": [
    "# TILD (NVT) -- Alchemical -- (N) Al to (N-1)Al(1)Mg"
   ]
  },
  {
   "cell_type": "markdown",
   "id": "e84031e1",
   "metadata": {},
   "source": [
    "### Introduction"
   ]
  },
  {
   "cell_type": "markdown",
   "id": "aca77e29",
   "metadata": {},
   "source": [
    "This notebook is an example of the 'ProtocolTILDNVTPar' job in pyiron_contrib, which can be used to find the free energy difference $\\Delta F$ between two systems of atoms $\\mathrm{A}$ and $\\mathrm{B}$ in a canonical ($NVT$) ensemble, given by the formula,\n",
    "\n",
    "$\\Delta F_\\mathrm{A\\rightarrow B}(N, V, T) = \\int_0^1 \\langle U_\\mathrm{B}(\\lambda) - U_\\mathrm{A}(\\lambda) \\rangle_{(\\lambda, N, V, T)} d\\lambda$,\n",
    "\n",
    "where $\\lambda$ is the coupling parameter and $U$ is the potential energy of the system."
   ]
  },
  {
   "cell_type": "markdown",
   "id": "693b5d75",
   "metadata": {},
   "source": [
    "#### Alchemical -- (N) Al to (N-1)Al(1)Mg\n",
    "\n",
    "Here, we find the free energy difference between a system containing $(N)$ Al atoms (as system $\\mathrm{A}$) and another system containing $(N-1)$ Al atoms and $(1)$ Mg atom (as system $\\mathrm{B}$)."
   ]
  },
  {
   "cell_type": "markdown",
   "id": "c4ea48b4",
   "metadata": {},
   "source": [
    "### Pre-job setup"
   ]
  },
  {
   "cell_type": "code",
   "execution_count": 1,
   "id": "f6cc48f4",
   "metadata": {
    "ExecuteTime": {
     "end_time": "2021-06-08T13:40:59.725254Z",
     "start_time": "2021-06-08T13:40:56.927207Z"
    }
   },
   "outputs": [],
   "source": [
    "# imports\n",
    "\n",
    "import numpy as np\n",
    "import matplotlib.pyplot as plt\n",
    "\n",
    "from pyiron import Project\n",
    "import pyiron_contrib"
   ]
  },
  {
   "cell_type": "code",
   "execution_count": 2,
   "id": "80f6bb38",
   "metadata": {
    "ExecuteTime": {
     "end_time": "2021-06-08T13:41:59.103405Z",
     "start_time": "2021-06-08T13:40:59.727018Z"
    }
   },
   "outputs": [],
   "source": [
    "# define project\n",
    "\n",
    "pr = Project('tild_alchemical')\n",
    "pr.remove_jobs_silently(recursive=True)"
   ]
  },
  {
   "cell_type": "code",
   "execution_count": 3,
   "id": "5b279ce5",
   "metadata": {
    "ExecuteTime": {
     "end_time": "2021-06-08T13:41:59.303628Z",
     "start_time": "2021-06-08T13:41:59.105067Z"
    }
   },
   "outputs": [
    {
     "data": {
      "text/html": [
       "<div>\n",
       "<style scoped>\n",
       "    .dataframe tbody tr th:only-of-type {\n",
       "        vertical-align: middle;\n",
       "    }\n",
       "\n",
       "    .dataframe tbody tr th {\n",
       "        vertical-align: top;\n",
       "    }\n",
       "\n",
       "    .dataframe thead th {\n",
       "        text-align: right;\n",
       "    }\n",
       "</style>\n",
       "<table border=\"1\" class=\"dataframe\">\n",
       "  <thead>\n",
       "    <tr style=\"text-align: right;\">\n",
       "      <th></th>\n",
       "      <th>Module</th>\n",
       "      <th>Git head</th>\n",
       "    </tr>\n",
       "  </thead>\n",
       "  <tbody>\n",
       "    <tr>\n",
       "      <th>0</th>\n",
       "      <td>pyiron</td>\n",
       "      <td>194141c70944a6b4a46ea30d77f1b4d6c1740975</td>\n",
       "    </tr>\n",
       "    <tr>\n",
       "      <th>1</th>\n",
       "      <td>pyiron_mpie</td>\n",
       "      <td>6413178a614cbcffb115052c01517dea65b35d58</td>\n",
       "    </tr>\n",
       "    <tr>\n",
       "      <th>2</th>\n",
       "      <td>pyiron_contrib</td>\n",
       "      <td>881238c57470a01ee2cd70828438bedd1d246c20</td>\n",
       "    </tr>\n",
       "    <tr>\n",
       "      <th>3</th>\n",
       "      <td>pyiron_atomistics</td>\n",
       "      <td>ad92397c57423c897e6906b8820f1fec5dd4368f</td>\n",
       "    </tr>\n",
       "    <tr>\n",
       "      <th>4</th>\n",
       "      <td>pyiron_base</td>\n",
       "      <td>b6984ef894e7ed3b59517eacf5697e8b0f9cc710</td>\n",
       "    </tr>\n",
       "  </tbody>\n",
       "</table>\n",
       "</div>"
      ],
      "text/plain": [
       "              Module                                  Git head\n",
       "0             pyiron  194141c70944a6b4a46ea30d77f1b4d6c1740975\n",
       "1        pyiron_mpie  6413178a614cbcffb115052c01517dea65b35d58\n",
       "2     pyiron_contrib  881238c57470a01ee2cd70828438bedd1d246c20\n",
       "3  pyiron_atomistics  ad92397c57423c897e6906b8820f1fec5dd4368f\n",
       "4        pyiron_base  b6984ef894e7ed3b59517eacf5697e8b0f9cc710"
      ]
     },
     "execution_count": 3,
     "metadata": {},
     "output_type": "execute_result"
    }
   ],
   "source": [
    "# check the git heads of the pyiron modules that are being used \n",
    "\n",
    "pr.get_repository_status()"
   ]
  },
  {
   "cell_type": "markdown",
   "id": "77f1f600",
   "metadata": {},
   "source": [
    "#### Inputs"
   ]
  },
  {
   "cell_type": "code",
   "execution_count": 4,
   "id": "d7cd7383",
   "metadata": {
    "ExecuteTime": {
     "end_time": "2021-06-08T13:41:59.307654Z",
     "start_time": "2021-06-08T13:41:59.304887Z"
    }
   },
   "outputs": [],
   "source": [
    "# structure specific\n",
    "element = 'Al'\n",
    "crystal_structure = 'fcc'\n",
    "supercell = 3\n",
    "potential = '2009--Mendelev-M-I--Al-Mg--LAMMPS--ipr1'  # Make sure the potential has both species!\n",
    "a = 4.073603  # obtained from calc_md at 300K. \n",
    "\n",
    "# tild specific\n",
    "temperature = 300.\n",
    "n_lambdas = 3  # number of 'lambda'/integration points\n",
    "n_steps = 100  # MD steps\n",
    "thermalization_steps = 10  # number of steps to equilibrate the system for\n",
    "sampling_period = 5  # collect a 'sample' every 'sampling_period' steps \n",
    "convergence_steps = 50  # number of steps after which to check for convergence\n",
    "fe_tol = 1e-3  # convergence criterion 0.1 meV \n",
    "\n",
    "# cluster specific\n",
    "queue = 'cmti'\n",
    "tild_cores = n_lambdas  # if running on the headnode, use 1! Otherwise, set to n_lambdas\n",
    "tild_run_time = 14400  # in seconds"
   ]
  },
  {
   "cell_type": "markdown",
   "id": "8befce02",
   "metadata": {},
   "source": [
    "#### 0 K relaxation"
   ]
  },
  {
   "cell_type": "code",
   "execution_count": 5,
   "id": "03cdb19c",
   "metadata": {
    "ExecuteTime": {
     "end_time": "2021-06-08T13:42:00.481896Z",
     "start_time": "2021-06-08T13:41:59.308533Z"
    }
   },
   "outputs": [
    {
     "name": "stdout",
     "output_type": "stream",
     "text": [
      "The job zero was saved and received the ID: 998\n"
     ]
    },
    {
     "name": "stderr",
     "output_type": "stream",
     "text": [
      "/home/raynol025/pyiron/pyiron_atomistics/pyiron_atomistics/lammps/units.py:201: UserWarning: Warning: Couldn't determine the LAMMPS to pyiron unit conversion type of quantity steps. Returning un-normalized quantity\n",
      "  warnings.warn(message=\"Warning: Couldn't determine the LAMMPS to pyiron unit conversion type of quantity \"\n",
      "/home/raynol025/pyiron/pyiron_atomistics/pyiron_atomistics/lammps/units.py:201: UserWarning: Warning: Couldn't determine the LAMMPS to pyiron unit conversion type of quantity indices. Returning un-normalized quantity\n",
      "  warnings.warn(message=\"Warning: Couldn't determine the LAMMPS to pyiron unit conversion type of quantity \"\n",
      "/home/raynol025/pyiron/pyiron_atomistics/pyiron_atomistics/lammps/units.py:201: UserWarning: Warning: Couldn't determine the LAMMPS to pyiron unit conversion type of quantity velocities. Returning un-normalized quantity\n",
      "  warnings.warn(message=\"Warning: Couldn't determine the LAMMPS to pyiron unit conversion type of quantity \"\n",
      "/home/raynol025/pyiron/pyiron_atomistics/pyiron_atomistics/lammps/units.py:201: UserWarning: Warning: Couldn't determine the LAMMPS to pyiron unit conversion type of quantity steps. Returning un-normalized quantity\n",
      "  warnings.warn(message=\"Warning: Couldn't determine the LAMMPS to pyiron unit conversion type of quantity \"\n"
     ]
    }
   ],
   "source": [
    "pr_zero = pr.create_group('ionic_relaxation')\n",
    "\n",
    "zero = pr_zero.create_job(pr.job_type.Lammps, 'zero')\n",
    "zero.structure = pr.create_ase_bulk(name=element, crystalstructure=crystal_structure, cubic=True).repeat(supercell)\n",
    "n_atoms = len(zero.structure.positions)\n",
    "zero.potential = potential\n",
    "zero.calc_minimize(pressure=None)  # we keep the volume constant! (because we obtain the lattice constant from MD)\n",
    "zero.run()\n",
    "\n",
    "zero_k_energy = zero.output.energy_pot[-1]"
   ]
  },
  {
   "cell_type": "markdown",
   "id": "b90498d2",
   "metadata": {},
   "source": [
    "### TILDNVT job"
   ]
  },
  {
   "cell_type": "markdown",
   "id": "9273e3c8",
   "metadata": {},
   "source": [
    "#### Reference jobs\n",
    "\n",
    "The 'ProtocolTILDNVTPar' job takes 'reference jobs' for the systems $\\mathrm{A}$ and $\\mathrm{B}$ as inputs. Here, we specify system $\\mathrm{A}$ as a 'Lammps' job with $(N)$ Al atoms. System $\\mathrm{B}$ is another 'Lammps' job with $(N-1)$ Al atoms and $(1)$ Mg atom."
   ]
  },
  {
   "cell_type": "code",
   "execution_count": 6,
   "id": "b35fe561",
   "metadata": {
    "ExecuteTime": {
     "end_time": "2021-06-08T13:42:01.347192Z",
     "start_time": "2021-06-08T13:42:00.494991Z"
    }
   },
   "outputs": [
    {
     "name": "stdout",
     "output_type": "stream",
     "text": [
      "The job ref_job_a was saved and received the ID: 999\n",
      "The job ref_job_b was saved and received the ID: 1000\n"
     ]
    },
    {
     "data": {
      "text/plain": [
       "1000"
      ]
     },
     "execution_count": 6,
     "metadata": {},
     "output_type": "execute_result"
    }
   ],
   "source": [
    "pr_tild = pr.create_group('tild_jobs')\n",
    "\n",
    "# reference job A -> Lammps\n",
    "ref_job_a = pr_tild.create_job(pr.job_type.Lammps, 'ref_job_a')\n",
    "ref_job_a.structure = zero.get_structure().copy()\n",
    "ref_job_a.potential = potential\n",
    "ref_job_a.save()\n",
    "\n",
    "# reference job B -> Lammps\n",
    "ref_job_b = pr_tild.create_job(pr.job_type.Lammps, 'ref_job_b')\n",
    "ref_job_b.structure = zero.get_structure().copy()\n",
    "ref_job_b.structure[0] = 'Mg'  # relace the 0th atom by Mg\n",
    "ref_job_b.potential = potential\n",
    "ref_job_b.save()"
   ]
  },
  {
   "cell_type": "markdown",
   "id": "abe1c114",
   "metadata": {},
   "source": [
    "#### Submit and run the job"
   ]
  },
  {
   "cell_type": "code",
   "execution_count": 7,
   "id": "805586a0",
   "metadata": {
    "ExecuteTime": {
     "end_time": "2021-06-08T13:42:22.405441Z",
     "start_time": "2021-06-08T13:42:01.357737Z"
    }
   },
   "outputs": [
    {
     "name": "stdout",
     "output_type": "stream",
     "text": [
      "The job tild_job was saved and received the ID: 1001\n",
      "The job create_jobs_a_0 was saved and received the ID: 1002\n",
      "The job create_jobs_a_1 was saved and received the ID: 1003\n",
      "The job create_jobs_a_2 was saved and received the ID: 1004\n",
      "The job create_jobs_b_0 was saved and received the ID: 1005\n",
      "The job create_jobs_b_1 was saved and received the ID: 1006\n",
      "The job create_jobs_b_2 was saved and received the ID: 1007\n"
     ]
    },
    {
     "name": "stderr",
     "output_type": "stream",
     "text": [
      "/home/raynol025/pyiron/pyiron_base/pyiron_base/generic/parameters.py:282: UserWarning: The input in GenericParameters changed, while the state of the job was already finished.\n",
      "  warnings.warn(\n",
      "/home/raynol025/pyiron/pyiron_base/pyiron_base/generic/parameters.py:282: UserWarning: The input in GenericParameters changed, while the state of the job was already finished.\n",
      "  warnings.warn(\n",
      "/home/raynol025/pyiron/pyiron_base/pyiron_base/generic/parameters.py:282: UserWarning: The input in GenericParameters changed, while the state of the job was already finished.\n",
      "  warnings.warn(\n"
     ]
    },
    {
     "name": "stdout",
     "output_type": "stream",
     "text": [
      "Convergence not reached in 50 steps. Continuing run...\n"
     ]
    },
    {
     "name": "stderr",
     "output_type": "stream",
     "text": [
      "/home/raynol025/pyiron/pyiron_base/pyiron_base/generic/parameters.py:282: UserWarning: The input in GenericParameters changed, while the state of the job was already finished.\n",
      "  warnings.warn(\n",
      "/home/raynol025/pyiron/pyiron_base/pyiron_base/generic/parameters.py:282: UserWarning: The input in GenericParameters changed, while the state of the job was already finished.\n",
      "  warnings.warn(\n",
      "/home/raynol025/pyiron/pyiron_base/pyiron_base/generic/parameters.py:282: UserWarning: The input in GenericParameters changed, while the state of the job was already finished.\n",
      "  warnings.warn(\n"
     ]
    },
    {
     "name": "stdout",
     "output_type": "stream",
     "text": [
      "Maximum steps (100) reached. Stopping run.\n"
     ]
    }
   ],
   "source": [
    "tild_job = pr_tild.create_job(pr.job_type.ProtoTILDPar, 'tild_job')\n",
    "\n",
    "# Tip: The documentation for the job can be accessed by running 'tild_job?' after the job has been defined!\n",
    "    \n",
    "tild_job.input.temperature = temperature\n",
    "tild_job.input.ref_job_a_full_path = ref_job_a.path\n",
    "tild_job.input.ref_job_b_full_path = ref_job_b.path\n",
    "tild_job.input.n_lambdas = n_lambdas\n",
    "tild_job.input.n_steps = n_steps\n",
    "tild_job.input.thermalization_steps = thermalization_steps\n",
    "tild_job.input.sampling_period = sampling_period\n",
    "tild_job.input.convergence_check_steps = convergence_steps\n",
    "tild_job.input.fe_tol = fe_tol\n",
    "\n",
    "# # in addition to these inputs, you can also modify the following inputs\n",
    "# tild_job.input.lambda_bias = 0.5\n",
    "# tild_job.input.time_step = 1.\n",
    "# tild_job.input.temperature_damping_timescale = 100.\n",
    "# tild_job.input.overheat_fraction = 2.\n",
    "# tild_job.input.cutoff_factor = 0.5\n",
    "# tild_job.input.use_reflection = False\n",
    "# tild_job.input.zero_k_energy = 0. # incase you want to provide an energy offset to the HessianJob\n",
    "\n",
    "# # set this only if you're running this on your local PC, and/or using MySQL as your DB manager\n",
    "# tild_job.input.sleep_time = 0.1  \n",
    "\n",
    "# cluster inputs\n",
    "tild_job.server.cores = tild_cores\n",
    "# tild_job.server.queue = queue\n",
    "# tild_job.server.run_time = tild_run_time\n",
    "\n",
    "# run_job\n",
    "tild_job.run()"
   ]
  },
  {
   "cell_type": "markdown",
   "id": "4a123f47",
   "metadata": {
    "ExecuteTime": {
     "end_time": "2021-05-31T07:57:08.801236Z",
     "start_time": "2021-05-31T07:57:08.798272Z"
    }
   },
   "source": [
    "#### Load the job"
   ]
  },
  {
   "cell_type": "code",
   "execution_count": 8,
   "id": "dc10105d",
   "metadata": {
    "ExecuteTime": {
     "end_time": "2021-06-08T10:21:20.688957Z",
     "start_time": "2021-06-08T10:21:20.686992Z"
    }
   },
   "outputs": [
    {
     "name": "stdout",
     "output_type": "stream",
     "text": [
      "job loaded\n"
     ]
    }
   ],
   "source": [
    "if tild_job.status == 'finished':\n",
    "    path = Project(str(pr.base_name) + '/' + str(pr_tild.base_name))\n",
    "    tild_job = path.load(tild_job.job_name)  # here we load\n",
    "    print('job loaded')\n",
    "else:\n",
    "    print('job still running')"
   ]
  },
  {
   "cell_type": "markdown",
   "id": "dfd88b70",
   "metadata": {
    "ExecuteTime": {
     "start_time": "2021-05-31T08:03:49.485Z"
    }
   },
   "source": [
    "#### Collect output"
   ]
  },
  {
   "cell_type": "code",
   "execution_count": 9,
   "id": "7cfe66ae",
   "metadata": {
    "ExecuteTime": {
     "end_time": "2021-06-08T10:21:23.148210Z",
     "start_time": "2021-06-08T10:21:23.023783Z"
    }
   },
   "outputs": [],
   "source": [
    "total_steps = tild_job.output.total_steps[-1]\n",
    "lambdas = tild_job.output.lambdas[-1]\n",
    "temperature_mean = tild_job.output.temperature_mean[-1]\n",
    "temperature_std = tild_job.output.temperature_std[-1]\n",
    "integrands = tild_job.output.integrands[-1]\n",
    "integrands_std = tild_job.output.integrands_std[-1]\n",
    "integrands_n_samples = tild_job.output.integrands_n_samples[-1]\n",
    "del_A_tild = tild_job.output.tild_free_energy_mean[-1]  # A, because this is the Helmholtz free energy\n",
    "del_A_tild_std = tild_job.output.tild_free_energy_std[-1]\n",
    "del_A_tild_se = tild_job.output.tild_free_energy_se[-1]\n",
    "\n",
    "# also records output using free energy perturbation method \n",
    "del_A_fep = tild_job.output.fep_free_energy_mean[-1]\n",
    "del_A_fep_std = tild_job.output.fep_free_energy_std[-1]\n",
    "del_A_fep_se = tild_job.output.fep_free_energy_se[-1]\n",
    "\n",
    "# NOTE: The Helmholtz free energy from the FEP method returns a non-nan value, only if the systems A and B are \n",
    "# very close in potential energy to each other!"
   ]
  },
  {
   "cell_type": "markdown",
   "id": "8c312c5f",
   "metadata": {},
   "source": [
    "#### View output"
   ]
  },
  {
   "cell_type": "code",
   "execution_count": 10,
   "id": "6daaac56",
   "metadata": {
    "ExecuteTime": {
     "end_time": "2021-06-08T10:21:24.319192Z",
     "start_time": "2021-06-08T10:21:24.316445Z"
    }
   },
   "outputs": [
    {
     "name": "stdout",
     "output_type": "stream",
     "text": [
      "mean temperature: 230.28063909145678 K\n"
     ]
    }
   ],
   "source": [
    "# Check average temperature of the lambda points\n",
    "\n",
    "print('mean temperature: {} K'.format(np.mean(temperature_mean)))"
   ]
  },
  {
   "cell_type": "code",
   "execution_count": 11,
   "id": "f823bb54",
   "metadata": {
    "ExecuteTime": {
     "end_time": "2021-06-08T10:21:25.571702Z",
     "start_time": "2021-06-08T10:21:25.479512Z"
    }
   },
   "outputs": [
    {
     "name": "stdout",
     "output_type": "stream",
     "text": [
      "Lambdas:  [0.  0.5 1. ]\n",
      "Integrands plot: \n"
     ]
    },
    {
     "data": {
      "image/png": "[encoded data removed]",
      "text/plain": [
       "<Figure size 432x288 with 1 Axes>"
      ]
     },
     "metadata": {
      "needs_background": "light"
     },
     "output_type": "display_data"
    },
    {
     "data": {
      "text/plain": [
       "(<Figure size 432x288 with 1 Axes>,\n",
       " <AxesSubplot:xlabel='Lambda', ylabel='dF/dLambda'>)"
      ]
     },
     "execution_count": 11,
     "metadata": {},
     "output_type": "execute_result"
    }
   ],
   "source": [
    "# Some inbuilt functions\n",
    "\n",
    "print('Lambdas: ', tild_job.get_lambdas())\n",
    "print('Integrands plot: ')\n",
    "tild_job.plot_tild_integrands()"
   ]
  },
  {
   "cell_type": "code",
   "execution_count": 12,
   "id": "2be3baca",
   "metadata": {
    "ExecuteTime": {
     "end_time": "2021-06-08T10:21:28.618422Z",
     "start_time": "2021-06-08T10:21:28.615379Z"
    }
   },
   "outputs": [
    {
     "name": "stdout",
     "output_type": "stream",
     "text": [
      "del_A_tild: 2.012537514920896 eV\n",
      "del_A_fep: 1.9610652857097128 eV\n"
     ]
    }
   ],
   "source": [
    "# Helmholtz free energy between the 2 systems using TILD and FEP\n",
    "\n",
    "print('del_A_tild: {} eV'.format(del_A_tild))  # * 1e3 to convert it to meV\n",
    "print('del_A_fep: {} eV'.format(del_A_fep))"
   ]
  },
  {
   "cell_type": "code",
   "execution_count": 13,
   "id": "56a9f604",
   "metadata": {
    "ExecuteTime": {
     "end_time": "2021-06-08T10:21:32.917583Z",
     "start_time": "2021-06-08T10:21:32.914330Z"
    }
   },
   "outputs": [
    {
     "name": "stdout",
     "output_type": "stream",
     "text": [
      "A_tild_alc: -1.402965726489771 eV/atom\n",
      "A_fep_alc: -1.4544379557009544 eV/atom\n"
     ]
    }
   ],
   "source": [
    "# total free energy of system B ((N-1)Al(1)Mg) at this temperature\n",
    "\n",
    "A_tild = -3.415503241410667  # ev/atom, from notebook 'protocol_tild_harmonic_to_eam_example.ipynb'\n",
    "A_tild_alc = A_tild + del_A_tild\n",
    "A_fep_alc = A_tild + del_A_fep\n",
    "print('A_tild_alc: {} eV/atom'.format(A_tild_alc))\n",
    "print('A_fep_alc: {} eV/atom'.format(A_fep_alc))"
   ]
  },
  {
   "cell_type": "code",
   "execution_count": null,
   "id": "a4115a60",
   "metadata": {},
   "outputs": [],
   "source": []
  }
 ],
 "metadata": {
  "kernelspec": {
   "display_name": "Python 3",
   "language": "python",
   "name": "python3"
  },
  "language_info": {
   "codemirror_mode": {
    "name": "ipython",
    "version": 3
   },
   "file_extension": ".py",
   "mimetype": "text/x-python",
   "name": "python",
   "nbconvert_exporter": "python",
   "pygments_lexer": "ipython3",
   "version": "3.8.8"
  }
 },
 "nbformat": 4,
 "nbformat_minor": 5
}
